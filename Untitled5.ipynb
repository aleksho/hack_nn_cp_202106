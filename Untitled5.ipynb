{
  "nbformat": 4,
  "nbformat_minor": 0,
  "metadata": {
    "colab": {
      "name": "Untitled5.ipynb",
      "provenance": []
    },
    "kernelspec": {
      "name": "python3",
      "display_name": "Python 3"
    },
    "language_info": {
      "name": "python"
    },
    "widgets": {
      "application/vnd.jupyter.widget-state+json": {
        "63a787cf23a44759bd8f09ca4ac51732": {
          "model_module": "@jupyter-widgets/controls",
          "model_name": "DropdownModel",
          "state": {
            "_options_labels": [
              "cond-mat.stat-mech",
              "cond-mat.quant-gas",
              "physics.bio-ph cond-mat.stat-mech q-bio.sc",
              "cond-mat.mes-hall",
              "cond-mat.str-el",
              "cond-mat.supr-con",
              "quant-ph cond-mat.mes-hall cond-mat.quant-gas",
              "cond-mat.supr-con physics.ins-det",
              "cond-mat.stat-mech quant-ph",
              "nucl-th cond-mat.quant-gas nucl-ex physics.atom-ph",
              "cond-mat.stat-mech nlin.ao",
              "nucl-th cond-mat.quant-gas nucl-ex",
              "math.co cond-mat.stat-mech math-ph math.gr math.mp",
              "cond-mat.soft physics.flu-dyn",
              "cond-mat.supr-con cond-mat.str-el",
              "cond-mat.soft",
              "cond-mat.stat-mech cond-mat.mes-hall",
              "nucl-th cond-mat.other hep-ph hep-th",
              "cond-mat.str-el cond-mat.dis-nn cond-mat.mtrl-sci",
              "cond-mat.str-el quant-ph",
              "physics.bio-ph cond-mat.stat-mech nlin.ao q-bio.sc",
              "cond-mat.dis-nn",
              "cond-mat.mes-hall cond-mat.mtrl-sci",
              "cond-mat.mes-hall physics.optics quant-ph",
              "quant-ph cond-mat.mes-hall cond-mat.supr-con",
              "cond-mat.mtrl-sci cond-mat.mes-hall quant-ph",
              "cond-mat.supr-con cond-mat.mes-hall",
              "cond-mat.mtrl-sci",
              "cond-mat.soft q-bio.bm",
              "quant-ph cond-mat.quant-gas physics.optics",
              "cond-mat.str-el cond-mat.supr-con",
              "math.pr cond-mat.dis-nn cond-mat.stat-mech math-ph math.mp physics.soc-ph",
              "cond-mat.mes-hall cond-mat.dis-nn cond-mat.supr-con",
              "cond-mat.mtrl-sci cond-mat.mes-hall",
              "cond-mat.stat-mech cond-mat.dis-nn cs.cc quant-ph",
              "cond-mat.quant-gas cond-mat.stat-mech hep-lat",
              "cond-mat.mes-hall quant-ph",
              "cond-mat.stat-mech math.pr",
              "quant-ph cond-mat.quant-gas hep-th math-ph math.mp",
              "physics.med-ph cond-mat.other",
              "quant-ph cond-mat.mes-hall",
              "cond-mat.str-el cond-mat.mtrl-sci cond-mat.supr-con",
              "cond-mat.str-el cond-mat.mes-hall cond-mat.supr-con",
              "cond-mat.stat-mech cond-mat.dis-nn hep-th",
              "cond-mat.str-el cond-mat.stat-mech hep-th",
              "quant-ph cond-mat.mtrl-sci",
              "cond-mat.stat-mech astro-ph.ep physics.plasm-ph",
              "cond-mat.mtrl-sci cond-mat.str-el",
              "cond-mat.stat-mech hep-th math-ph math.mp",
              "physics.flu-dyn cond-mat.other",
              "cond-mat.dis-nn cond-mat.mes-hall",
              "physics.flu-dyn cond-mat.soft physics.bio-ph",
              "cond-mat.quant-gas physics.comp-ph quant-ph",
              "cond-mat.stat-mech cond-mat.soft",
              "physics.soc-ph cond-mat.dis-nn cs.cl cs.lg",
              "cond-mat.quant-gas physics.atom-ph",
              "cond-mat.str-el cond-mat.mtrl-sci",
              "hep-th cond-mat.str-el",
              "cond-mat.stat-mech cond-mat.dis-nn cond-mat.str-el quant-ph",
              "physics.flu-dyn cond-mat.soft",
              "cond-mat.mes-hall cond-mat.supr-con",
              "cond-mat.dis-nn cond-mat.mtrl-sci cond-mat.soft",
              "quant-ph cond-mat.mes-hall physics.chem-ph",
              "cond-mat.stat-mech physics.flu-dyn",
              "cond-mat.str-el cond-mat.mes-hall quant-ph",
              "cond-mat.supr-con hep-th",
              "cond-mat.str-el cond-mat.mes-hall hep-th",
              "cond-mat.dis-nn cond-mat.str-el",
              "physics.class-ph cond-mat.mtrl-sci",
              "quant-ph cond-mat.str-el hep-th",
              "cond-mat.str-el cond-mat.dis-nn cond-mat.mes-hall",
              "hep-th cond-mat.str-el math.gt math.qa",
              "physics.class-ph cond-mat.soft",
              "cond-mat.soft physics.bio-ph",
              "cond-mat.str-el hep-th",
              "nlin.cd cond-mat.soft",
              "hep-th cond-mat.quant-gas cond-mat.stat-mech hep-ph nucl-th",
              "cond-mat.mes-hall cond-mat.quant-gas quant-ph",
              "quant-ph cond-mat.str-el",
              "cond-mat.quant-gas cond-mat.dis-nn cond-mat.str-el quant-ph",
              "physics.bio-ph cond-mat.soft physics.flu-dyn",
              "cond-mat.mes-hall cond-mat.mtrl-sci cond-mat.soft physics.flu-dyn physics.ins-det",
              "cond-mat.quant-gas cond-mat.stat-mech hep-th quant-ph",
              "q-bio.nc cond-mat.dis-nn",
              "quant-ph cond-mat.mes-hall physics.optics",
              "nlin.ao cond-mat.soft physics.bio-ph",
              "physics.optics cond-mat.mes-hall",
              "cond-mat.str-el cond-mat.mes-hall",
              "quant-ph cond-mat.supr-con",
              "hep-th cond-mat.mes-hall",
              "cond-mat.quant-gas cond-mat.str-el quant-ph",
              "cond-mat.supr-con cond-mat.mtrl-sci cond-mat.str-el",
              "cond-mat.stat-mech cs.it math.it nlin.ao",
              "cond-mat.str-el cond-mat.stat-mech hep-th quant-ph",
              "cond-mat.mtrl-sci physics.chem-ph",
              "cond-mat.stat-mech physics.atm-clus",
              "physics.ins-det cond-mat.mtrl-sci",
              "cond-mat.mes-hall cond-mat.str-el",
              "cond-mat.stat-mech math-ph math.mp",
              "cond-mat.soft nlin.ao physics.chem-ph",
              "hep-th cond-mat.stat-mech",
              "cond-mat.str-el cond-mat.dis-nn cond-mat.quant-gas",
              "cond-mat.str-el cond-mat.stat-mech quant-ph",
              "cond-mat.soft cond-mat.stat-mech",
              "quant-ph cond-mat.stat-mech math-ph math.mp",
              "cond-mat.supr-con quant-ph",
              "physics.soc-ph cond-mat.dis-nn cs.si",
              "cond-mat.quant-gas cond-mat.stat-mech physics.atom-ph quant-ph",
              "cond-mat.mes-hall hep-ph hep-th",
              "cond-mat.quant-gas physics.atom-ph quant-ph",
              "physics.comp-ph cond-mat.mtrl-sci",
              "cond-mat.mes-hall cond-mat.stat-mech",
              "quant-ph cond-mat.stat-mech",
              "cond-mat.supr-con nlin.ao quant-ph",
              "cond-mat.quant-gas physics.flu-dyn",
              "hep-th cond-mat.mes-hall hep-ph nucl-th",
              "physics.ins-det cond-mat.mes-hall",
              "cond-mat.stat-mech cs.it math.it nlin.cd stat.ml",
              "cond-mat.dis-nn cond-mat.mes-hall cond-mat.soft physics.class-ph",
              "hep-lat cond-mat.str-el hep-th quant-ph",
              "cond-mat.mes-hall cond-mat.dis-nn cond-mat.mtrl-sci",
              "physics.atom-ph cond-mat.quant-gas",
              "cond-mat.quant-gas nucl-th",
              "cond-mat.supr-con cond-mat.mtrl-sci",
              "physics.chem-ph cond-mat.mtrl-sci",
              "cond-mat.mes-hall cond-mat.mtrl-sci physics.app-ph",
              "cond-mat.stat-mech cond-mat.str-el quant-ph",
              "cond-mat.mtrl-sci physics.optics",
              "quant-ph cond-mat.other",
              "physics.data-an cond-mat.stat-mech",
              "physics.optics cond-mat.mes-hall quant-ph",
              "physics.atom-ph cond-mat.dis-nn cond-mat.quant-gas quant-ph",
              "cond-mat.str-el cond-mat.stat-mech cond-mat.supr-con",
              "cond-mat.mes-hall cond-mat.mtrl-sci physics.ins-det",
              "physics.soc-ph cond-mat.dis-nn",
              "cond-mat.mes-hall physics.optics",
              "cond-mat.mes-hall cond-mat.dis-nn cond-mat.str-el",
              "cond-mat.other quant-ph",
              "astro-ph.ep cond-mat.soft",
              "cond-mat.soft cond-mat.mtrl-sci cond-mat.stat-mech",
              "cond-mat.other",
              "cond-mat.soft cond-mat.stat-mech physics.chem-ph",
              "physics.class-ph cond-mat.mtrl-sci physics.app-ph physics.comp-ph physics.geo-ph",
              "physics.app-ph cond-mat.mes-hall cond-mat.mtrl-sci",
              "hep-lat cond-mat.stat-mech cs.lg",
              "physics.app-ph cond-mat.mtrl-sci",
              "math-ph cond-mat.quant-gas math.mp",
              "physics.chem-ph cond-mat.soft",
              "cond-mat.stat-mech physics.plasm-ph",
              "physics.bio-ph cond-mat.stat-mech physics.chem-ph q-bio.sc",
              "cond-mat.mes-hall cond-mat.other",
              "cond-mat.supr-con cond-mat.stat-mech",
              "cond-mat.dis-nn cs.cv",
              "cond-mat.stat-mech hep-lat hep-ph hep-th",
              "cond-mat.mtrl-sci physics.app-ph",
              "physics.soc-ph cond-mat.dis-nn cond-mat.stat-mech",
              "cond-mat.stat-mech cond-mat.str-el",
              "cond-mat.stat-mech cs.lg",
              "cond-mat.mes-hall cond-mat.mtrl-sci quant-ph",
              "hep-th cond-mat.str-el gr-qc",
              "cond-mat.mtrl-sci physics.flu-dyn",
              "cond-mat.mtrl-sci cond-mat.soft",
              "physics.soc-ph cond-mat.other physics.bio-ph",
              "physics.chem-ph cond-mat.mes-hall",
              "physics.optics cond-mat.stat-mech",
              "cond-mat.stat-mech physics.chem-ph physics.flu-dyn",
              "cond-mat.soft cond-mat.dis-nn cond-mat.stat-mech",
              "cond-mat.dis-nn cond-mat.mtrl-sci physics.geo-ph",
              "cond-mat.mes-hall cond-mat.mtrl-sci physics.optics quant-ph",
              "cond-mat.soft cond-mat.stat-mech physics.bio-ph",
              "cond-mat.stat-mech cond-mat.mtrl-sci physics.app-ph",
              "physics.soc-ph cond-mat.soft cond-mat.stat-mech",
              "cond-mat.soft physics.data-an",
              "physics.app-ph cond-mat.mes-hall",
              "cond-mat.other cond-mat.mtrl-sci",
              "cond-mat.mtrl-sci cond-mat.stat-mech",
              "cond-mat.dis-nn cond-mat.mtrl-sci cond-mat.stat-mech"
            ],
            "_view_name": "DropdownView",
            "style": "IPY_MODEL_b952c4fd789f4a47a4745382383103fc",
            "_dom_classes": [],
            "description": "Number:",
            "_model_name": "DropdownModel",
            "index": 0,
            "_view_module": "@jupyter-widgets/controls",
            "_model_module_version": "1.5.0",
            "_view_count": null,
            "disabled": false,
            "_view_module_version": "1.5.0",
            "description_tooltip": null,
            "_model_module": "@jupyter-widgets/controls",
            "layout": "IPY_MODEL_0cb74a6ebaca493bab15d2f9a1d9f553"
          }
        },
        "b952c4fd789f4a47a4745382383103fc": {
          "model_module": "@jupyter-widgets/controls",
          "model_name": "DescriptionStyleModel",
          "state": {
            "_view_name": "StyleView",
            "_model_name": "DescriptionStyleModel",
            "description_width": "",
            "_view_module": "@jupyter-widgets/base",
            "_model_module_version": "1.5.0",
            "_view_count": null,
            "_view_module_version": "1.2.0",
            "_model_module": "@jupyter-widgets/controls"
          }
        },
        "0cb74a6ebaca493bab15d2f9a1d9f553": {
          "model_module": "@jupyter-widgets/base",
          "model_name": "LayoutModel",
          "state": {
            "_view_name": "LayoutView",
            "grid_template_rows": null,
            "right": null,
            "justify_content": null,
            "_view_module": "@jupyter-widgets/base",
            "overflow": null,
            "_model_module_version": "1.2.0",
            "_view_count": null,
            "flex_flow": null,
            "width": null,
            "min_width": null,
            "border": null,
            "align_items": null,
            "bottom": null,
            "_model_module": "@jupyter-widgets/base",
            "top": null,
            "grid_column": null,
            "overflow_y": null,
            "overflow_x": null,
            "grid_auto_flow": null,
            "grid_area": null,
            "grid_template_columns": null,
            "flex": null,
            "_model_name": "LayoutModel",
            "justify_items": null,
            "grid_row": null,
            "max_height": null,
            "align_content": null,
            "visibility": null,
            "align_self": null,
            "height": null,
            "min_height": null,
            "padding": null,
            "grid_auto_rows": null,
            "grid_gap": null,
            "max_width": null,
            "order": null,
            "_view_module_version": "1.2.0",
            "grid_template_areas": null,
            "object_position": null,
            "object_fit": null,
            "grid_auto_columns": null,
            "margin": null,
            "display": null,
            "left": null
          }
        },
        "5cb240ea80e74f6a81f8bbcd32dddfd8": {
          "model_module": "@jupyter-widgets/controls",
          "model_name": "VBoxModel",
          "state": {
            "_view_name": "VBoxView",
            "_dom_classes": [
              "widget-interact"
            ],
            "_model_name": "VBoxModel",
            "_view_module": "@jupyter-widgets/controls",
            "_model_module_version": "1.5.0",
            "_view_count": null,
            "_view_module_version": "1.5.0",
            "box_style": "",
            "layout": "IPY_MODEL_ec36628e9d4640e1a45b7b9880d2ae71",
            "_model_module": "@jupyter-widgets/controls",
            "children": [
              "IPY_MODEL_1ab30a0d9950434c8837e97d6c98fd1a",
              "IPY_MODEL_8e6beab3abdd42afbf42d56cebb064e8"
            ]
          }
        },
        "ec36628e9d4640e1a45b7b9880d2ae71": {
          "model_module": "@jupyter-widgets/base",
          "model_name": "LayoutModel",
          "state": {
            "_view_name": "LayoutView",
            "grid_template_rows": null,
            "right": null,
            "justify_content": null,
            "_view_module": "@jupyter-widgets/base",
            "overflow": null,
            "_model_module_version": "1.2.0",
            "_view_count": null,
            "flex_flow": null,
            "width": null,
            "min_width": null,
            "border": null,
            "align_items": null,
            "bottom": null,
            "_model_module": "@jupyter-widgets/base",
            "top": null,
            "grid_column": null,
            "overflow_y": null,
            "overflow_x": null,
            "grid_auto_flow": null,
            "grid_area": null,
            "grid_template_columns": null,
            "flex": null,
            "_model_name": "LayoutModel",
            "justify_items": null,
            "grid_row": null,
            "max_height": null,
            "align_content": null,
            "visibility": null,
            "align_self": null,
            "height": null,
            "min_height": null,
            "padding": null,
            "grid_auto_rows": null,
            "grid_gap": null,
            "max_width": null,
            "order": null,
            "_view_module_version": "1.2.0",
            "grid_template_areas": null,
            "object_position": null,
            "object_fit": null,
            "grid_auto_columns": null,
            "margin": null,
            "display": null,
            "left": null
          }
        },
        "1ab30a0d9950434c8837e97d6c98fd1a": {
          "model_module": "@jupyter-widgets/controls",
          "model_name": "DropdownModel",
          "state": {
            "_options_labels": [
              "cond-mat.stat-mech",
              "cond-mat.quant-gas",
              "physics.bio-ph cond-mat.stat-mech q-bio.sc",
              "cond-mat.mes-hall",
              "cond-mat.str-el",
              "cond-mat.supr-con",
              "quant-ph cond-mat.mes-hall cond-mat.quant-gas",
              "cond-mat.supr-con physics.ins-det",
              "cond-mat.stat-mech quant-ph",
              "nucl-th cond-mat.quant-gas nucl-ex physics.atom-ph",
              "cond-mat.stat-mech nlin.ao",
              "nucl-th cond-mat.quant-gas nucl-ex",
              "math.co cond-mat.stat-mech math-ph math.gr math.mp",
              "cond-mat.soft physics.flu-dyn",
              "cond-mat.supr-con cond-mat.str-el",
              "cond-mat.soft",
              "cond-mat.stat-mech cond-mat.mes-hall",
              "nucl-th cond-mat.other hep-ph hep-th",
              "cond-mat.str-el cond-mat.dis-nn cond-mat.mtrl-sci",
              "cond-mat.str-el quant-ph",
              "physics.bio-ph cond-mat.stat-mech nlin.ao q-bio.sc",
              "cond-mat.dis-nn",
              "cond-mat.mes-hall cond-mat.mtrl-sci",
              "cond-mat.mes-hall physics.optics quant-ph",
              "quant-ph cond-mat.mes-hall cond-mat.supr-con",
              "cond-mat.mtrl-sci cond-mat.mes-hall quant-ph",
              "cond-mat.supr-con cond-mat.mes-hall",
              "cond-mat.mtrl-sci",
              "cond-mat.soft q-bio.bm",
              "quant-ph cond-mat.quant-gas physics.optics",
              "cond-mat.str-el cond-mat.supr-con",
              "math.pr cond-mat.dis-nn cond-mat.stat-mech math-ph math.mp physics.soc-ph",
              "cond-mat.mes-hall cond-mat.dis-nn cond-mat.supr-con",
              "cond-mat.mtrl-sci cond-mat.mes-hall",
              "cond-mat.stat-mech cond-mat.dis-nn cs.cc quant-ph",
              "cond-mat.quant-gas cond-mat.stat-mech hep-lat",
              "cond-mat.mes-hall quant-ph",
              "cond-mat.stat-mech math.pr",
              "quant-ph cond-mat.quant-gas hep-th math-ph math.mp",
              "physics.med-ph cond-mat.other",
              "quant-ph cond-mat.mes-hall",
              "cond-mat.str-el cond-mat.mtrl-sci cond-mat.supr-con",
              "cond-mat.str-el cond-mat.mes-hall cond-mat.supr-con",
              "cond-mat.stat-mech cond-mat.dis-nn hep-th",
              "cond-mat.str-el cond-mat.stat-mech hep-th",
              "quant-ph cond-mat.mtrl-sci",
              "cond-mat.stat-mech astro-ph.ep physics.plasm-ph",
              "cond-mat.mtrl-sci cond-mat.str-el",
              "cond-mat.stat-mech hep-th math-ph math.mp",
              "physics.flu-dyn cond-mat.other",
              "cond-mat.dis-nn cond-mat.mes-hall",
              "physics.flu-dyn cond-mat.soft physics.bio-ph",
              "cond-mat.quant-gas physics.comp-ph quant-ph",
              "cond-mat.stat-mech cond-mat.soft",
              "physics.soc-ph cond-mat.dis-nn cs.cl cs.lg",
              "cond-mat.quant-gas physics.atom-ph",
              "cond-mat.str-el cond-mat.mtrl-sci",
              "hep-th cond-mat.str-el",
              "cond-mat.stat-mech cond-mat.dis-nn cond-mat.str-el quant-ph",
              "physics.flu-dyn cond-mat.soft",
              "cond-mat.mes-hall cond-mat.supr-con",
              "cond-mat.dis-nn cond-mat.mtrl-sci cond-mat.soft",
              "quant-ph cond-mat.mes-hall physics.chem-ph",
              "cond-mat.stat-mech physics.flu-dyn",
              "cond-mat.str-el cond-mat.mes-hall quant-ph",
              "cond-mat.supr-con hep-th",
              "cond-mat.str-el cond-mat.mes-hall hep-th",
              "cond-mat.dis-nn cond-mat.str-el",
              "physics.class-ph cond-mat.mtrl-sci",
              "quant-ph cond-mat.str-el hep-th",
              "cond-mat.str-el cond-mat.dis-nn cond-mat.mes-hall",
              "hep-th cond-mat.str-el math.gt math.qa",
              "physics.class-ph cond-mat.soft",
              "cond-mat.soft physics.bio-ph",
              "cond-mat.str-el hep-th",
              "nlin.cd cond-mat.soft",
              "hep-th cond-mat.quant-gas cond-mat.stat-mech hep-ph nucl-th",
              "cond-mat.mes-hall cond-mat.quant-gas quant-ph",
              "quant-ph cond-mat.str-el",
              "cond-mat.quant-gas cond-mat.dis-nn cond-mat.str-el quant-ph",
              "physics.bio-ph cond-mat.soft physics.flu-dyn",
              "cond-mat.mes-hall cond-mat.mtrl-sci cond-mat.soft physics.flu-dyn physics.ins-det",
              "cond-mat.quant-gas cond-mat.stat-mech hep-th quant-ph",
              "q-bio.nc cond-mat.dis-nn",
              "quant-ph cond-mat.mes-hall physics.optics",
              "nlin.ao cond-mat.soft physics.bio-ph",
              "physics.optics cond-mat.mes-hall",
              "cond-mat.str-el cond-mat.mes-hall",
              "quant-ph cond-mat.supr-con",
              "hep-th cond-mat.mes-hall",
              "cond-mat.quant-gas cond-mat.str-el quant-ph",
              "cond-mat.supr-con cond-mat.mtrl-sci cond-mat.str-el",
              "cond-mat.stat-mech cs.it math.it nlin.ao",
              "cond-mat.str-el cond-mat.stat-mech hep-th quant-ph",
              "cond-mat.mtrl-sci physics.chem-ph",
              "cond-mat.stat-mech physics.atm-clus",
              "physics.ins-det cond-mat.mtrl-sci",
              "cond-mat.mes-hall cond-mat.str-el",
              "cond-mat.stat-mech math-ph math.mp",
              "cond-mat.soft nlin.ao physics.chem-ph",
              "hep-th cond-mat.stat-mech",
              "cond-mat.str-el cond-mat.dis-nn cond-mat.quant-gas",
              "cond-mat.str-el cond-mat.stat-mech quant-ph",
              "cond-mat.soft cond-mat.stat-mech",
              "quant-ph cond-mat.stat-mech math-ph math.mp",
              "cond-mat.supr-con quant-ph",
              "physics.soc-ph cond-mat.dis-nn cs.si",
              "cond-mat.quant-gas cond-mat.stat-mech physics.atom-ph quant-ph",
              "cond-mat.mes-hall hep-ph hep-th",
              "cond-mat.quant-gas physics.atom-ph quant-ph",
              "physics.comp-ph cond-mat.mtrl-sci",
              "cond-mat.mes-hall cond-mat.stat-mech",
              "quant-ph cond-mat.stat-mech",
              "cond-mat.supr-con nlin.ao quant-ph",
              "cond-mat.quant-gas physics.flu-dyn",
              "hep-th cond-mat.mes-hall hep-ph nucl-th",
              "physics.ins-det cond-mat.mes-hall",
              "cond-mat.stat-mech cs.it math.it nlin.cd stat.ml",
              "cond-mat.dis-nn cond-mat.mes-hall cond-mat.soft physics.class-ph",
              "hep-lat cond-mat.str-el hep-th quant-ph",
              "cond-mat.mes-hall cond-mat.dis-nn cond-mat.mtrl-sci",
              "physics.atom-ph cond-mat.quant-gas",
              "cond-mat.quant-gas nucl-th",
              "cond-mat.supr-con cond-mat.mtrl-sci",
              "physics.chem-ph cond-mat.mtrl-sci",
              "cond-mat.mes-hall cond-mat.mtrl-sci physics.app-ph",
              "cond-mat.stat-mech cond-mat.str-el quant-ph",
              "cond-mat.mtrl-sci physics.optics",
              "quant-ph cond-mat.other",
              "physics.data-an cond-mat.stat-mech",
              "physics.optics cond-mat.mes-hall quant-ph",
              "physics.atom-ph cond-mat.dis-nn cond-mat.quant-gas quant-ph",
              "cond-mat.str-el cond-mat.stat-mech cond-mat.supr-con",
              "cond-mat.mes-hall cond-mat.mtrl-sci physics.ins-det",
              "physics.soc-ph cond-mat.dis-nn",
              "cond-mat.mes-hall physics.optics",
              "cond-mat.mes-hall cond-mat.dis-nn cond-mat.str-el",
              "cond-mat.other quant-ph",
              "astro-ph.ep cond-mat.soft",
              "cond-mat.soft cond-mat.mtrl-sci cond-mat.stat-mech",
              "cond-mat.other",
              "cond-mat.soft cond-mat.stat-mech physics.chem-ph",
              "physics.class-ph cond-mat.mtrl-sci physics.app-ph physics.comp-ph physics.geo-ph",
              "physics.app-ph cond-mat.mes-hall cond-mat.mtrl-sci",
              "hep-lat cond-mat.stat-mech cs.lg",
              "physics.app-ph cond-mat.mtrl-sci",
              "math-ph cond-mat.quant-gas math.mp",
              "physics.chem-ph cond-mat.soft",
              "cond-mat.stat-mech physics.plasm-ph",
              "physics.bio-ph cond-mat.stat-mech physics.chem-ph q-bio.sc",
              "cond-mat.mes-hall cond-mat.other",
              "cond-mat.supr-con cond-mat.stat-mech",
              "cond-mat.dis-nn cs.cv",
              "cond-mat.stat-mech hep-lat hep-ph hep-th",
              "cond-mat.mtrl-sci physics.app-ph",
              "physics.soc-ph cond-mat.dis-nn cond-mat.stat-mech",
              "cond-mat.stat-mech cond-mat.str-el",
              "cond-mat.stat-mech cs.lg",
              "cond-mat.mes-hall cond-mat.mtrl-sci quant-ph",
              "hep-th cond-mat.str-el gr-qc",
              "cond-mat.mtrl-sci physics.flu-dyn",
              "cond-mat.mtrl-sci cond-mat.soft",
              "physics.soc-ph cond-mat.other physics.bio-ph",
              "physics.chem-ph cond-mat.mes-hall",
              "physics.optics cond-mat.stat-mech",
              "cond-mat.stat-mech physics.chem-ph physics.flu-dyn",
              "cond-mat.soft cond-mat.dis-nn cond-mat.stat-mech",
              "cond-mat.dis-nn cond-mat.mtrl-sci physics.geo-ph",
              "cond-mat.mes-hall cond-mat.mtrl-sci physics.optics quant-ph",
              "cond-mat.soft cond-mat.stat-mech physics.bio-ph",
              "cond-mat.stat-mech cond-mat.mtrl-sci physics.app-ph",
              "physics.soc-ph cond-mat.soft cond-mat.stat-mech",
              "cond-mat.soft physics.data-an",
              "physics.app-ph cond-mat.mes-hall",
              "cond-mat.other cond-mat.mtrl-sci",
              "cond-mat.mtrl-sci cond-mat.stat-mech",
              "cond-mat.dis-nn cond-mat.mtrl-sci cond-mat.stat-mech"
            ],
            "_view_name": "DropdownView",
            "style": "IPY_MODEL_90498032aa5f4da89f156dc7f89efb5b",
            "_dom_classes": [],
            "description": "x",
            "_model_name": "DropdownModel",
            "index": 9,
            "_view_module": "@jupyter-widgets/controls",
            "_model_module_version": "1.5.0",
            "_view_count": null,
            "disabled": false,
            "_view_module_version": "1.5.0",
            "description_tooltip": null,
            "_model_module": "@jupyter-widgets/controls",
            "layout": "IPY_MODEL_39a4b900a5dd41f584244bd65c4bfc2a"
          }
        },
        "8e6beab3abdd42afbf42d56cebb064e8": {
          "model_module": "@jupyter-widgets/output",
          "model_name": "OutputModel",
          "state": {
            "_view_name": "OutputView",
            "msg_id": "",
            "_dom_classes": [],
            "_model_name": "OutputModel",
            "outputs": [
              {
                "output_type": "display_data",
                "metadata": {
                  "tags": []
                },
                "text/html": "<div>\n<style scoped>\n    .dataframe tbody tr th:only-of-type {\n        vertical-align: middle;\n    }\n\n    .dataframe tbody tr th {\n        vertical-align: top;\n    }\n\n    .dataframe thead tr th {\n        text-align: left;\n    }\n\n    .dataframe thead tr:last-of-type th {\n        text-align: right;\n    }\n</style>\n<table border=\"1\" class=\"dataframe\">\n  <thead>\n    <tr>\n      <th></th>\n      <th>title</th>\n    </tr>\n    <tr>\n      <th></th>\n      <th>count</th>\n    </tr>\n    <tr>\n      <th>created</th>\n      <th></th>\n    </tr>\n  </thead>\n  <tbody>\n    <tr>\n      <th>2012</th>\n      <td>1</td>\n    </tr>\n    <tr>\n      <th>2016</th>\n      <td>13</td>\n    </tr>\n    <tr>\n      <th>2017</th>\n      <td>12</td>\n    </tr>\n  </tbody>\n</table>\n</div>",
                "text/plain": "        title\n        count\ncreated      \n2012        1\n2016       13\n2017       12"
              }
            ],
            "_view_module": "@jupyter-widgets/output",
            "_model_module_version": "1.0.0",
            "_view_count": null,
            "_view_module_version": "1.0.0",
            "layout": "IPY_MODEL_5bfdbfd34dc849cbb80142739a29dcfa",
            "_model_module": "@jupyter-widgets/output"
          }
        },
        "90498032aa5f4da89f156dc7f89efb5b": {
          "model_module": "@jupyter-widgets/controls",
          "model_name": "DescriptionStyleModel",
          "state": {
            "_view_name": "StyleView",
            "_model_name": "DescriptionStyleModel",
            "description_width": "",
            "_view_module": "@jupyter-widgets/base",
            "_model_module_version": "1.5.0",
            "_view_count": null,
            "_view_module_version": "1.2.0",
            "_model_module": "@jupyter-widgets/controls"
          }
        },
        "39a4b900a5dd41f584244bd65c4bfc2a": {
          "model_module": "@jupyter-widgets/base",
          "model_name": "LayoutModel",
          "state": {
            "_view_name": "LayoutView",
            "grid_template_rows": null,
            "right": null,
            "justify_content": null,
            "_view_module": "@jupyter-widgets/base",
            "overflow": null,
            "_model_module_version": "1.2.0",
            "_view_count": null,
            "flex_flow": null,
            "width": null,
            "min_width": null,
            "border": null,
            "align_items": null,
            "bottom": null,
            "_model_module": "@jupyter-widgets/base",
            "top": null,
            "grid_column": null,
            "overflow_y": null,
            "overflow_x": null,
            "grid_auto_flow": null,
            "grid_area": null,
            "grid_template_columns": null,
            "flex": null,
            "_model_name": "LayoutModel",
            "justify_items": null,
            "grid_row": null,
            "max_height": null,
            "align_content": null,
            "visibility": null,
            "align_self": null,
            "height": null,
            "min_height": null,
            "padding": null,
            "grid_auto_rows": null,
            "grid_gap": null,
            "max_width": null,
            "order": null,
            "_view_module_version": "1.2.0",
            "grid_template_areas": null,
            "object_position": null,
            "object_fit": null,
            "grid_auto_columns": null,
            "margin": null,
            "display": null,
            "left": null
          }
        },
        "5bfdbfd34dc849cbb80142739a29dcfa": {
          "model_module": "@jupyter-widgets/base",
          "model_name": "LayoutModel",
          "state": {
            "_view_name": "LayoutView",
            "grid_template_rows": null,
            "right": null,
            "justify_content": null,
            "_view_module": "@jupyter-widgets/base",
            "overflow": null,
            "_model_module_version": "1.2.0",
            "_view_count": null,
            "flex_flow": null,
            "width": null,
            "min_width": null,
            "border": null,
            "align_items": null,
            "bottom": null,
            "_model_module": "@jupyter-widgets/base",
            "top": null,
            "grid_column": null,
            "overflow_y": null,
            "overflow_x": null,
            "grid_auto_flow": null,
            "grid_area": null,
            "grid_template_columns": null,
            "flex": null,
            "_model_name": "LayoutModel",
            "justify_items": null,
            "grid_row": null,
            "max_height": null,
            "align_content": null,
            "visibility": null,
            "align_self": null,
            "height": null,
            "min_height": null,
            "padding": null,
            "grid_auto_rows": null,
            "grid_gap": null,
            "max_width": null,
            "order": null,
            "_view_module_version": "1.2.0",
            "grid_template_areas": null,
            "object_position": null,
            "object_fit": null,
            "grid_auto_columns": null,
            "margin": null,
            "display": null,
            "left": null
          }
        }
      }
    }
  },
  "cells": [
    {
      "cell_type": "code",
      "metadata": {
        "colab": {
          "base_uri": "https://localhost:8080/"
        },
        "id": "c2d5wKRGVEJ2",
        "outputId": "2bc06134-f208-400e-aa9f-7a26749be888"
      },
      "source": [
        "!pip install arxivabscraper\n",
        "!pip install arxivscraper"
      ],
      "execution_count": 1,
      "outputs": [
        {
          "output_type": "stream",
          "text": [
            "Collecting arxivabscraper\n",
            "  Downloading https://files.pythonhosted.org/packages/01/30/79e7039ae4702938bff798ecdd423d17f38db073e3419573e6a57f73c83c/arxivabscraper-0.3-py3-none-any.whl\n",
            "Installing collected packages: arxivabscraper\n",
            "Successfully installed arxivabscraper-0.3\n",
            "Collecting arxivscraper\n",
            "  Downloading https://files.pythonhosted.org/packages/3e/6e/22fc7163f8eace55cafabbddcb4c8342020e67d96eb640cdc819b58b1ca4/arxivscraper-0.0.4-py3-none-any.whl\n",
            "Installing collected packages: arxivscraper\n",
            "Successfully installed arxivscraper-0.0.4\n"
          ],
          "name": "stdout"
        }
      ]
    },
    {
      "cell_type": "code",
      "metadata": {
        "id": "EkpyqoxNVDKk"
      },
      "source": [
        "import arxivscraper\n",
        "import arxivabscraper\n",
        "import pandas as pd"
      ],
      "execution_count": 2,
      "outputs": []
    },
    {
      "cell_type": "code",
      "metadata": {
        "id": "R3Ernl7uVLW-"
      },
      "source": [
        "scraper = arxivscraper.Scraper(category='physics:cond-mat', date_from='2017-05-27',date_until='2017-06-07')"
      ],
      "execution_count": 3,
      "outputs": []
    },
    {
      "cell_type": "code",
      "metadata": {
        "colab": {
          "base_uri": "https://localhost:8080/"
        },
        "id": "ETHTTipYVQbF",
        "outputId": "53002beb-7c99-46a0-cdf0-d33af086ee97"
      },
      "source": [
        "output = scraper.scrape()\n",
        "cols = ('id', 'title', 'categories', 'abstract', 'doi', 'created', 'updated', 'authors')\n",
        "df = pd.DataFrame(output, columns=cols)"
      ],
      "execution_count": 4,
      "outputs": [
        {
          "output_type": "stream",
          "text": [
            "fetching up to  1000 records...\n",
            "fetching is completed in 10.0 seconds.\n",
            "Total number of records 547\n"
          ],
          "name": "stdout"
        }
      ]
    },
    {
      "cell_type": "code",
      "metadata": {
        "id": "tqt1bjKfVUFR"
      },
      "source": [
        "df['created'] = pd.to_datetime(df['created'])"
      ],
      "execution_count": 5,
      "outputs": []
    },
    {
      "cell_type": "code",
      "metadata": {
        "colab": {
          "base_uri": "https://localhost:8080/",
          "height": 735
        },
        "id": "Dkduly5jWYDl",
        "outputId": "dccfd1e9-b19d-4173-a93f-ea3403999ff7"
      },
      "source": [
        "df"
      ],
      "execution_count": 6,
      "outputs": [
        {
          "output_type": "execute_result",
          "data": {
            "text/html": [
              "<div>\n",
              "<style scoped>\n",
              "    .dataframe tbody tr th:only-of-type {\n",
              "        vertical-align: middle;\n",
              "    }\n",
              "\n",
              "    .dataframe tbody tr th {\n",
              "        vertical-align: top;\n",
              "    }\n",
              "\n",
              "    .dataframe thead th {\n",
              "        text-align: right;\n",
              "    }\n",
              "</style>\n",
              "<table border=\"1\" class=\"dataframe\">\n",
              "  <thead>\n",
              "    <tr style=\"text-align: right;\">\n",
              "      <th></th>\n",
              "      <th>id</th>\n",
              "      <th>title</th>\n",
              "      <th>categories</th>\n",
              "      <th>abstract</th>\n",
              "      <th>doi</th>\n",
              "      <th>created</th>\n",
              "      <th>updated</th>\n",
              "      <th>authors</th>\n",
              "    </tr>\n",
              "  </thead>\n",
              "  <tbody>\n",
              "    <tr>\n",
              "      <th>0</th>\n",
              "      <td>1008.1559</td>\n",
              "      <td>generalized extensivity</td>\n",
              "      <td>cond-mat.stat-mech</td>\n",
              "      <td>in order to apply thermodynamics to systems in...</td>\n",
              "      <td></td>\n",
              "      <td>2010-08-09</td>\n",
              "      <td>2016-02-19</td>\n",
              "      <td>[john e. gray, stephen r. addison]</td>\n",
              "    </tr>\n",
              "    <tr>\n",
              "      <th>1</th>\n",
              "      <td>1210.1784</td>\n",
              "      <td>general relations for quantum gases in two and...</td>\n",
              "      <td>cond-mat.quant-gas</td>\n",
              "      <td>we derive exact general relations between vari...</td>\n",
              "      <td>10.1103/physreva.86.053633</td>\n",
              "      <td>2012-10-05</td>\n",
              "      <td>2017-05-30</td>\n",
              "      <td>[félix werner, yvan castin]</td>\n",
              "    </tr>\n",
              "    <tr>\n",
              "      <th>2</th>\n",
              "      <td>1310.1579</td>\n",
              "      <td>distribution of lifetimes of kinetochore-micro...</td>\n",
              "      <td>physics.bio-ph cond-mat.stat-mech q-bio.sc</td>\n",
              "      <td>before a cell divides into two daughter cells,...</td>\n",
              "      <td>10.1088/1478-3975/11/3/036004</td>\n",
              "      <td>2013-10-06</td>\n",
              "      <td>2014-03-24</td>\n",
              "      <td>[ajeet k. sharma, blerta shtylla, debashish ch...</td>\n",
              "    </tr>\n",
              "    <tr>\n",
              "      <th>3</th>\n",
              "      <td>1311.4422</td>\n",
              "      <td>incorporation of a dc bias in a high-q 3d micr...</td>\n",
              "      <td>cond-mat.mes-hall</td>\n",
              "      <td>we report a technique for applying a dc bias i...</td>\n",
              "      <td></td>\n",
              "      <td>2013-11-18</td>\n",
              "      <td>2017-05-29</td>\n",
              "      <td>[mingyun yuan, sal j. bosman, g. a. steele]</td>\n",
              "    </tr>\n",
              "    <tr>\n",
              "      <th>4</th>\n",
              "      <td>1405.1697</td>\n",
              "      <td>a s=1/2 vanadium-based geometrically frustrate...</td>\n",
              "      <td>cond-mat.str-el</td>\n",
              "      <td>we report the synthesis and characterization o...</td>\n",
              "      <td>10.1088/0953-8984/26/26/265601</td>\n",
              "      <td>2014-05-07</td>\n",
              "      <td>2014-05-13</td>\n",
              "      <td>[tanmoy chakrabarty, a. v. mahajan, b. koteswa...</td>\n",
              "    </tr>\n",
              "    <tr>\n",
              "      <th>...</th>\n",
              "      <td>...</td>\n",
              "      <td>...</td>\n",
              "      <td>...</td>\n",
              "      <td>...</td>\n",
              "      <td>...</td>\n",
              "      <td>...</td>\n",
              "      <td>...</td>\n",
              "      <td>...</td>\n",
              "    </tr>\n",
              "    <tr>\n",
              "      <th>542</th>\n",
              "      <td>1706.01796</td>\n",
              "      <td>magnetic behavior and spin-lattice coupling in...</td>\n",
              "      <td>cond-mat.other cond-mat.mtrl-sci</td>\n",
              "      <td>crcl3 is a layered insulator that undergoes a ...</td>\n",
              "      <td></td>\n",
              "      <td>2017-06-06</td>\n",
              "      <td></td>\n",
              "      <td>[michael a. mcguire, genevieve clark, santosh ...</td>\n",
              "    </tr>\n",
              "    <tr>\n",
              "      <th>543</th>\n",
              "      <td>1706.01840</td>\n",
              "      <td>designing magnetism in fe-based heusler alloys...</td>\n",
              "      <td>cond-mat.mtrl-sci</td>\n",
              "      <td>combining material informatics and high-throug...</td>\n",
              "      <td></td>\n",
              "      <td>2017-06-06</td>\n",
              "      <td></td>\n",
              "      <td>[mario žic, thomas archer, stefano sanvito]</td>\n",
              "    </tr>\n",
              "    <tr>\n",
              "      <th>544</th>\n",
              "      <td>1706.01848</td>\n",
              "      <td>structural properties of thin-film ferromagnet...</td>\n",
              "      <td>cond-mat.mtrl-sci cond-mat.mes-hall</td>\n",
              "      <td>we present a comprehensive study of the crysta...</td>\n",
              "      <td></td>\n",
              "      <td>2017-06-06</td>\n",
              "      <td></td>\n",
              "      <td>[c. l. richardson, j. m. devine-stoneman, g. d...</td>\n",
              "    </tr>\n",
              "    <tr>\n",
              "      <th>545</th>\n",
              "      <td>cond-mat/0110290</td>\n",
              "      <td>an alternative definition of the equivalent no...</td>\n",
              "      <td>cond-mat.mtrl-sci cond-mat.stat-mech</td>\n",
              "      <td>a hypothetical test resistor is connected in p...</td>\n",
              "      <td></td>\n",
              "      <td>2001-10-15</td>\n",
              "      <td>2017-05-29</td>\n",
              "      <td>[dan ritter]</td>\n",
              "    </tr>\n",
              "    <tr>\n",
              "      <th>546</th>\n",
              "      <td>cond-mat/9809122</td>\n",
              "      <td>hysteresis, avalanches, and noise: numerical m...</td>\n",
              "      <td>cond-mat.dis-nn cond-mat.mtrl-sci cond-mat.sta...</td>\n",
              "      <td>in studying the avalanches and noise in a mode...</td>\n",
              "      <td>10.1109/5992.774844</td>\n",
              "      <td>1998-09-07</td>\n",
              "      <td>1999-04-23</td>\n",
              "      <td>[matthew c. kuntz, olga perkovic, karin a. dah...</td>\n",
              "    </tr>\n",
              "  </tbody>\n",
              "</table>\n",
              "<p>547 rows × 8 columns</p>\n",
              "</div>"
            ],
            "text/plain": [
              "                   id  ...                                            authors\n",
              "0           1008.1559  ...                 [john e. gray, stephen r. addison]\n",
              "1           1210.1784  ...                        [félix werner, yvan castin]\n",
              "2           1310.1579  ...  [ajeet k. sharma, blerta shtylla, debashish ch...\n",
              "3           1311.4422  ...        [mingyun yuan, sal j. bosman, g. a. steele]\n",
              "4           1405.1697  ...  [tanmoy chakrabarty, a. v. mahajan, b. koteswa...\n",
              "..                ...  ...                                                ...\n",
              "542        1706.01796  ...  [michael a. mcguire, genevieve clark, santosh ...\n",
              "543        1706.01840  ...        [mario žic, thomas archer, stefano sanvito]\n",
              "544        1706.01848  ...  [c. l. richardson, j. m. devine-stoneman, g. d...\n",
              "545  cond-mat/0110290  ...                                       [dan ritter]\n",
              "546  cond-mat/9809122  ...  [matthew c. kuntz, olga perkovic, karin a. dah...\n",
              "\n",
              "[547 rows x 8 columns]"
            ]
          },
          "metadata": {
            "tags": []
          },
          "execution_count": 6
        }
      ]
    },
    {
      "cell_type": "markdown",
      "metadata": {
        "id": "A2fTxoXwV2MK"
      },
      "source": [
        "параметры date_from и date_until явно испытывают проблемы"
      ]
    },
    {
      "cell_type": "code",
      "metadata": {
        "colab": {
          "base_uri": "https://localhost:8080/"
        },
        "id": "pyZN9Xf0Vc7l",
        "outputId": "b1084d82-622c-4441-8db8-b091e0ae4f89"
      },
      "source": [
        "df.created.hist(log=True)"
      ],
      "execution_count": 35,
      "outputs": [
        {
          "output_type": "execute_result",
          "data": {
            "text/plain": [
              "<matplotlib.axes._subplots.AxesSubplot at 0x7f57777130d0>"
            ]
          },
          "metadata": {
            "tags": []
          },
          "execution_count": 35
        }
      ]
    },
    {
      "cell_type": "code",
      "metadata": {
        "id": "1EdBBNPSWV1B"
      },
      "source": [
        "df['categories'].unique()"
      ],
      "execution_count": null,
      "outputs": []
    },
    {
      "cell_type": "code",
      "metadata": {
        "id": "2Pj9d464YgoT"
      },
      "source": [
        "# df['created'].dtype\n",
        "# df['categories'][0]\n",
        "import matplotlib.pyplot as plt\n",
        "import pandas as pd\n",
        "import numpy as np\n",
        "from ipywidgets import interact, interactive, fixed, interact_manual\n",
        "import ipywidgets as widgets\n",
        "import seaborn as sns; sns.set()\n",
        "sns.set(style=\"whitegrid\")\n",
        "%matplotlib notebook"
      ],
      "execution_count": 42,
      "outputs": []
    },
    {
      "cell_type": "code",
      "metadata": {
        "id": "HVZcKkdJY1AH",
        "outputId": "83913af5-14f5-44f8-e82c-246eb7551739",
        "colab": {
          "base_uri": "https://localhost:8080/",
          "height": 49,
          "referenced_widgets": [
            "63a787cf23a44759bd8f09ca4ac51732",
            "b952c4fd789f4a47a4745382383103fc",
            "0cb74a6ebaca493bab15d2f9a1d9f553"
          ]
        }
      },
      "source": [
        "widgets.Dropdown(\n",
        "    options=df['categories'].unique(),\n",
        "    value=df['categories'][0],\n",
        "    description='Number:',\n",
        "    disabled=False,\n",
        ")"
      ],
      "execution_count": 15,
      "outputs": [
        {
          "output_type": "display_data",
          "data": {
            "application/vnd.jupyter.widget-view+json": {
              "model_id": "63a787cf23a44759bd8f09ca4ac51732",
              "version_minor": 0,
              "version_major": 2
            },
            "text/plain": [
              "Dropdown(description='Number:', options=('cond-mat.stat-mech', 'cond-mat.quant-gas', 'physics.bio-ph cond-mat.…"
            ]
          },
          "metadata": {
            "tags": []
          }
        }
      ]
    },
    {
      "cell_type": "code",
      "metadata": {
        "id": "UDeIFPn0Z3Zf",
        "outputId": "708fcd29-1cdf-4fd3-92fa-bf14022a370f",
        "colab": {
          "base_uri": "https://localhost:8080/",
          "height": 238,
          "referenced_widgets": [
            "5cb240ea80e74f6a81f8bbcd32dddfd8",
            "ec36628e9d4640e1a45b7b9880d2ae71",
            "1ab30a0d9950434c8837e97d6c98fd1a",
            "8e6beab3abdd42afbf42d56cebb064e8",
            "90498032aa5f4da89f156dc7f89efb5b",
            "39a4b900a5dd41f584244bd65c4bfc2a",
            "5bfdbfd34dc849cbb80142739a29dcfa"
          ]
        }
      },
      "source": [
        "@interact\n",
        "def test_type(x=df['categories'].unique()):\n",
        "    return df.loc[df['categories'] == x].sort_values('created',ascending=False).iloc[:,[1]].groupby([df['created'].dt.year]).agg(['count'])#.plot(x='created',y='title')#.style.bar(subset=[3,5], align='mid', color=['#d65f5f', '#5fba7d'])\n",
        "    \n"
      ],
      "execution_count": 111,
      "outputs": [
        {
          "output_type": "display_data",
          "data": {
            "application/vnd.jupyter.widget-view+json": {
              "model_id": "5cb240ea80e74f6a81f8bbcd32dddfd8",
              "version_minor": 0,
              "version_major": 2
            },
            "text/plain": [
              "interactive(children=(Dropdown(description='x', options=('cond-mat.stat-mech', 'cond-mat.quant-gas', 'physics.…"
            ]
          },
          "metadata": {
            "tags": []
          }
        }
      ]
    },
    {
      "cell_type": "code",
      "metadata": {
        "id": "5W_FuWpjaSfl",
        "outputId": "320254cb-03e3-4ba6-c6fa-a9639753bbec",
        "colab": {
          "base_uri": "https://localhost:8080/"
        }
      },
      "source": [
        "df.loc[df['categories'] == 'cond-mat.quant-gas'].sort_values('created',ascending=False).iloc[:,[1]].groupby([df['created'].dt.year]).agg(['count']).reset_index().columns.droplevel()#.rename(columns={'':'year', }, inplace=True)"
      ],
      "execution_count": 110,
      "outputs": [
        {
          "output_type": "execute_result",
          "data": {
            "text/plain": [
              "Index(['', 'count'], dtype='object')"
            ]
          },
          "metadata": {
            "tags": []
          },
          "execution_count": 110
        }
      ]
    },
    {
      "cell_type": "code",
      "metadata": {
        "id": "JRXjcjamhTh7"
      },
      "source": [
        ""
      ],
      "execution_count": null,
      "outputs": []
    }
  ]
}