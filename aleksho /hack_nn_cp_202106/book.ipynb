{
  "nbformat": 4,
  "nbformat_minor": 5,
  "metadata": {
    "kernelspec": {
      "display_name": "Python 3",
      "language": "python",
      "name": "python3"
    },
    "language_info": {
      "codemirror_mode": {
        "name": "ipython",
        "version": 3
      },
      "file_extension": ".py",
      "mimetype": "text/x-python",
      "name": "python",
      "nbconvert_exporter": "python",
      "pygments_lexer": "ipython3",
      "version": "3.9.4"
    },
    "colab": {
      "name": "book.ipynb",
      "provenance": [],
      "include_colab_link": true
    }
  },
  "cells": [
    {
      "cell_type": "markdown",
      "metadata": {
        "id": "view-in-github",
        "colab_type": "text"
      },
      "source": [
        "<a href=\"https://colab.research.google.com/github/aleksho/hack_nn_cp_202106/blob/main/aleksho%20/hack_nn_cp_202106/book.ipynb\" target=\"_parent\"><img src=\"https://colab.research.google.com/assets/colab-badge.svg\" alt=\"Open In Colab\"/></a>"
      ]
    },
    {
      "cell_type": "code",
      "metadata": {
        "id": "0ad6735a-1ad0-48d1-b7f2-fde62d59f8df"
      },
      "source": [
        "import pandas as pd\n",
        "import numpy as np\n",
        "import nltk\n",
        "import spacy\n",
        "from nltk import word_tokenize \n",
        "from nltk.util import ngrams\n",
        "import matplotlib.pyplot as plt\n",
        "import seaborn as sns"
      ],
      "id": "0ad6735a-1ad0-48d1-b7f2-fde62d59f8df",
      "execution_count": null,
      "outputs": []
    },
    {
      "cell_type": "code",
      "metadata": {
        "colab": {
          "base_uri": "https://localhost:8080/"
        },
        "id": "UDfVCw_kTt-P",
        "outputId": "37200272-8d1f-4feb-a877-0a6f8c734d69"
      },
      "source": [
        "import numpy as np\n",
        "import pandas as pd\n",
        "import tensorflow as tf\n",
        "import tensorflow_datasets as tfds\n",
        " \n",
        "import pickle\n",
        "from sklearn.model_selection import train_test_split\n",
        "import matplotlib.pyplot as plt\n",
        "%matplotlib inline \n",
        " \n",
        "np.random.seed(1)\n",
        "from google.colab import drive\n",
        "import os\n",
        "drive.mount('/content/drive')\n",
        "HOMEDIR='drive/MyDrive/workds'\n",
        "HOMEDIR='drive/MyDrive/workds'\n",
        "MODELDIR=f'{HOMEDIR}/models/hack_2021_06'\n",
        "os.makedirs(f\"{MODELDIR}\",exist_ok= True )\n",
        "\n",
        "arx_10000 = f'{MODELDIR}/arx_10000_machine_learning.csv'"
      ],
      "id": "UDfVCw_kTt-P",
      "execution_count": null,
      "outputs": [
        {
          "output_type": "stream",
          "text": [
            "Drive already mounted at /content/drive; to attempt to forcibly remount, call drive.mount(\"/content/drive\", force_remount=True).\n"
          ],
          "name": "stdout"
        }
      ]
    },
    {
      "cell_type": "code",
      "metadata": {
        "colab": {
          "base_uri": "https://localhost:8080/"
        },
        "id": "tL7534_AUj0O",
        "outputId": "0b766837-ad1d-4e8e-b325-1f1e5b9da57d"
      },
      "source": [
        "!pip install arxivscraper"
      ],
      "id": "tL7534_AUj0O",
      "execution_count": null,
      "outputs": [
        {
          "output_type": "stream",
          "text": [
            "Collecting arxivscraper\n",
            "  Downloading https://files.pythonhosted.org/packages/3e/6e/22fc7163f8eace55cafabbddcb4c8342020e67d96eb640cdc819b58b1ca4/arxivscraper-0.0.4-py3-none-any.whl\n",
            "Installing collected packages: arxivscraper\n",
            "Successfully installed arxivscraper-0.0.4\n"
          ],
          "name": "stdout"
        }
      ]
    },
    {
      "cell_type": "code",
      "metadata": {
        "id": "d5b6aa9d-d4ac-4fd0-8151-942d2d4ab9c4"
      },
      "source": [
        "import arxivscraper\n",
        "scraper = arxivscraper.Scraper(category='physics:cond-mat', date_from='2017-05-27',date_until='2018-06-07')"
      ],
      "id": "d5b6aa9d-d4ac-4fd0-8151-942d2d4ab9c4",
      "execution_count": null,
      "outputs": []
    },
    {
      "cell_type": "code",
      "metadata": {
        "id": "e88071de-ac34-48df-897a-0b7dafa3ce7e"
      },
      "source": [
        "output = scraper.scrape()"
      ],
      "id": "e88071de-ac34-48df-897a-0b7dafa3ce7e",
      "execution_count": null,
      "outputs": []
    },
    {
      "cell_type": "code",
      "metadata": {
        "id": "6f9bf059-b4a7-4601-a854-d040304268a1"
      },
      "source": [
        "cols = ('id', 'title', 'categories', 'abstract', 'doi', 'created', 'updated', 'authors')\n",
        "df = pd.DataFrame(output, columns=cols)"
      ],
      "id": "6f9bf059-b4a7-4601-a854-d040304268a1",
      "execution_count": null,
      "outputs": []
    },
    {
      "cell_type": "code",
      "metadata": {
        "id": "1f0fbcaa-fda3-4228-8848-19d0a1337625",
        "outputId": "f1ad0b65-03c0-4d35-dd28-79ef30aaefec"
      },
      "source": [
        "df.abstract.apply(lambda x: len(x.split()))"
      ],
      "id": "1f0fbcaa-fda3-4228-8848-19d0a1337625",
      "execution_count": null,
      "outputs": [
        {
          "output_type": "execute_result",
          "data": {
            "text/plain": [
              "0        140\n",
              "1        168\n",
              "2         67\n",
              "3         78\n",
              "4         93\n",
              "        ... \n",
              "19089    104\n",
              "19090     44\n",
              "19091     77\n",
              "19092     85\n",
              "19093     73\n",
              "Name: abstract, Length: 19094, dtype: int64"
            ]
          },
          "metadata": {
            "tags": []
          },
          "execution_count": 16
        }
      ]
    },
    {
      "cell_type": "code",
      "metadata": {
        "id": "a6ba470d-1098-45a3-bcb7-5ffb6d0eeb3d"
      },
      "source": [
        "df = pd.read_csv(arx_10000)"
      ],
      "id": "a6ba470d-1098-45a3-bcb7-5ffb6d0eeb3d",
      "execution_count": null,
      "outputs": []
    },
    {
      "cell_type": "code",
      "metadata": {
        "id": "190ed2a2-6b59-4ef3-b455-0c6e55bf78fa"
      },
      "source": [
        ""
      ],
      "id": "190ed2a2-6b59-4ef3-b455-0c6e55bf78fa",
      "execution_count": null,
      "outputs": []
    },
    {
      "cell_type": "code",
      "metadata": {
        "id": "c127942d-86ae-45b5-80bc-15407288ba83"
      },
      "source": [
        "nlp = spacy.load(\"en_core_web_sm\")"
      ],
      "id": "c127942d-86ae-45b5-80bc-15407288ba83",
      "execution_count": null,
      "outputs": []
    },
    {
      "cell_type": "code",
      "metadata": {
        "colab": {
          "base_uri": "https://localhost:8080/"
        },
        "id": "3ffeb767-cfc4-498c-a8d7-4d671da82638",
        "outputId": "54749a23-744a-4727-8f9d-1094d6288b09"
      },
      "source": [
        "%%time\n",
        "lemm_abs = []\n",
        "words_delete = ['the', 'alpha']\n",
        "for row in np.arange(df.shape[0]):\n",
        "    doc = nlp(df.loc[row, 'abstract'].strip())\n",
        "    part_abs = []\n",
        "    for token in doc:\n",
        "        if not token.is_stop and not token.is_punct and not token.like_num and not token.lemma_ in words_delete and not '$' in token.lemma_:\n",
        "            part_abs.append(token.lemma_)\n",
        "    lemm_abs.append(part_abs)"
      ],
      "id": "3ffeb767-cfc4-498c-a8d7-4d671da82638",
      "execution_count": null,
      "outputs": [
        {
          "output_type": "stream",
          "text": [
            "CPU times: user 4min 44s, sys: 2.72 s, total: 4min 47s\n",
            "Wall time: 4min 47s\n"
          ],
          "name": "stdout"
        }
      ]
    },
    {
      "cell_type": "code",
      "metadata": {
        "colab": {
          "base_uri": "https://localhost:8080/"
        },
        "id": "81ec662d-89c1-4e29-afbe-d8aa7491bbcd",
        "outputId": "57c5eae6-7dac-46e6-e099-a3147ca0a81a"
      },
      "source": [
        "import nltk\n",
        "nltk.download('punkt')\n",
        "\n",
        "tokens = nltk.word_tokenize(' '.join([' '.join(i) for i in lemm_abs]))\n",
        "\n",
        "bgs = nltk.bigrams(tokens)\n",
        "\n",
        "fdist = nltk.FreqDist(bgs)\n",
        "fdist = dict(sorted(fdist.items(), key=lambda item: -item[1]))"
      ],
      "id": "81ec662d-89c1-4e29-afbe-d8aa7491bbcd",
      "execution_count": null,
      "outputs": [
        {
          "output_type": "stream",
          "text": [
            "[nltk_data] Downloading package punkt to /root/nltk_data...\n",
            "[nltk_data]   Unzipping tokenizers/punkt.zip.\n"
          ],
          "name": "stdout"
        }
      ]
    },
    {
      "cell_type": "code",
      "metadata": {
        "id": "208bff79-8f62-4a27-81cc-52cba7ff91a3"
      },
      "source": [
        "all_keys = list(fdist.keys())"
      ],
      "id": "208bff79-8f62-4a27-81cc-52cba7ff91a3",
      "execution_count": null,
      "outputs": []
    },
    {
      "cell_type": "code",
      "metadata": {
        "id": "c5a1109c-7538-4a90-a0d1-43c3d93a316a"
      },
      "source": [
        "# fdist"
      ],
      "id": "c5a1109c-7538-4a90-a0d1-43c3d93a316a",
      "execution_count": null,
      "outputs": []
    },
    {
      "cell_type": "code",
      "metadata": {
        "colab": {
          "base_uri": "https://localhost:8080/"
        },
        "id": "ff603373-496b-474f-b6a1-909dc4dc3890",
        "outputId": "886cbf78-1a8f-4ee9-d033-ee1e06a7ad0e"
      },
      "source": [
        "df.info()"
      ],
      "id": "ff603373-496b-474f-b6a1-909dc4dc3890",
      "execution_count": null,
      "outputs": [
        {
          "output_type": "stream",
          "text": [
            "<class 'pandas.core.frame.DataFrame'>\n",
            "RangeIndex: 10000 entries, 0 to 9999\n",
            "Data columns (total 3 columns):\n",
            " #   Column     Non-Null Count  Dtype \n",
            "---  ------     --------------  ----- \n",
            " 0   abstract   10000 non-null  object\n",
            " 1   published  10000 non-null  object\n",
            " 2   title      10000 non-null  object\n",
            "dtypes: object(3)\n",
            "memory usage: 234.5+ KB\n"
          ],
          "name": "stdout"
        }
      ]
    },
    {
      "cell_type": "code",
      "metadata": {
        "id": "01af4ad2-2ede-47c9-b70e-08970ee79b3f"
      },
      "source": [
        "top50 = list(fdist.keys())[:50]"
      ],
      "id": "01af4ad2-2ede-47c9-b70e-08970ee79b3f",
      "execution_count": null,
      "outputs": []
    },
    {
      "cell_type": "code",
      "metadata": {
        "colab": {
          "base_uri": "https://localhost:8080/"
        },
        "id": "597f86e2-8698-4c54-a28e-019342f4dc2c",
        "outputId": "db1f4f8d-0553-4930-eea5-04e4e12a4979"
      },
      "source": [
        "top50"
      ],
      "id": "597f86e2-8698-4c54-a28e-019342f4dc2c",
      "execution_count": null,
      "outputs": [
        {
          "output_type": "execute_result",
          "data": {
            "text/plain": [
              "[('machine', 'learning'),\n",
              " ('machine', 'learn'),\n",
              " ('neural', 'network'),\n",
              " ('deep', 'learning'),\n",
              " ('learning', 'model'),\n",
              " ('state', 'art'),\n",
              " ('reinforcement', 'learning'),\n",
              " ('learn', 'algorithm'),\n",
              " ('learning', 'method'),\n",
              " ('learning', 'algorithm'),\n",
              " ('real', 'world'),\n",
              " ('paper', 'propose'),\n",
              " ('learn', 'model'),\n",
              " ('training', 'datum'),\n",
              " ('e.g', '.'),\n",
              " ('deep', 'neural'),\n",
              " ('active', 'learning'),\n",
              " ('propose', 'method'),\n",
              " ('learning', 'approach'),\n",
              " ('experimental', 'result'),\n",
              " ('i.e', '.'),\n",
              " ('learning', 'technique'),\n",
              " ('high', 'dimensional'),\n",
              " ('propose', 'novel'),\n",
              " ('learning', 'problem'),\n",
              " ('transfer', 'learning'),\n",
              " ('paper', 'present'),\n",
              " ('large', 'scale'),\n",
              " ('supervise', 'learning'),\n",
              " ('data', 'set'),\n",
              " ('loss', 'function'),\n",
              " ('learning', 'framework'),\n",
              " ('gradient', 'descent'),\n",
              " ('supervised', 'learning'),\n",
              " ('semi', 'supervised'),\n",
              " ('learning', 'base'),\n",
              " ('support', 'vector'),\n",
              " ('deep', 'learn'),\n",
              " ('learning', 'task'),\n",
              " ('model', 'base'),\n",
              " ('learn', 'task'),\n",
              " ('time', 'series'),\n",
              " ('meta', 'learn'),\n",
              " ('meta', 'learning'),\n",
              " ('propose', 'new'),\n",
              " ('model', 'learn'),\n",
              " ('learning', 'system'),\n",
              " ('reinforcement', 'learn'),\n",
              " ('optimization', 'problem'),\n",
              " ('representation', 'learn')]"
            ]
          },
          "metadata": {
            "tags": []
          },
          "execution_count": 20
        }
      ]
    },
    {
      "cell_type": "code",
      "metadata": {
        "id": "02d31d12-20e5-446f-a707-37b89a77d6b2"
      },
      "source": [
        "top = top50"
      ],
      "id": "02d31d12-20e5-446f-a707-37b89a77d6b2",
      "execution_count": null,
      "outputs": []
    },
    {
      "cell_type": "code",
      "metadata": {
        "id": "3b8d3166-62a1-4bae-920e-155c63168ef9"
      },
      "source": [
        "df['published'] = pd.to_datetime(df.published)"
      ],
      "id": "3b8d3166-62a1-4bae-920e-155c63168ef9",
      "execution_count": null,
      "outputs": []
    },
    {
      "cell_type": "code",
      "metadata": {
        "id": "ca12111e-df40-4647-a868-c4ab5336b912"
      },
      "source": [
        "min_year = df['published'].min().year\n",
        "max_year = df['published'].max().year + 1"
      ],
      "id": "ca12111e-df40-4647-a868-c4ab5336b912",
      "execution_count": null,
      "outputs": []
    },
    {
      "cell_type": "code",
      "metadata": {
        "id": "8f3f6a9d-cafd-44be-9308-ab716167f2a6"
      },
      "source": [
        "time_ser, edges = pd.cut(df['published'], 20, retbins=True)\n"
      ],
      "id": "8f3f6a9d-cafd-44be-9308-ab716167f2a6",
      "execution_count": null,
      "outputs": []
    },
    {
      "cell_type": "code",
      "metadata": {
        "id": "cd82525a-5d10-40c7-a6b7-f3782f47a273"
      },
      "source": [
        "from collections import defaultdict"
      ],
      "id": "cd82525a-5d10-40c7-a6b7-f3782f47a273",
      "execution_count": null,
      "outputs": []
    },
    {
      "cell_type": "code",
      "metadata": {
        "colab": {
          "base_uri": "https://localhost:8080/"
        },
        "id": "bbe5731e-061c-4db0-94d0-d362f4399743",
        "outputId": "ce90f273-fd50-42c6-f642-f917d15ab337"
      },
      "source": [
        "%%time\n",
        "dict_bi = defaultdict(list)\n",
        "for year in range(min_year, max_year):\n",
        "    cond = (df.published.apply(lambda x: x.year) == year)\n",
        "#     print(cond.sum())\n",
        "    temp_lemm = pd.Series(lemm_abs)[cond]\n",
        "    tokens = nltk.word_tokenize(' '.join([' '.join(i) for i in temp_lemm]))\n",
        "    \n",
        "    bgs = nltk.bigrams(tokens)\n",
        "    \n",
        "    fdist = nltk.FreqDist(bgs)\n",
        "    fdist = dict(sorted(fdist.items(), key=lambda item: -item[1]))\n",
        "    for i in all_keys:\n",
        "        try:\n",
        "            dict_bi[i].append(fdist[i])\n",
        "        except:\n",
        "            dict_bi[i].append(0)"
      ],
      "id": "bbe5731e-061c-4db0-94d0-d362f4399743",
      "execution_count": null,
      "outputs": [
        {
          "output_type": "stream",
          "text": [
            "CPU times: user 19.3 s, sys: 234 ms, total: 19.5 s\n",
            "Wall time: 19.5 s\n"
          ],
          "name": "stdout"
        }
      ]
    },
    {
      "cell_type": "code",
      "metadata": {
        "id": "f367d80c-b7ac-42ed-b565-2cd6b84590a1"
      },
      "source": [
        "df_top_bi = pd.DataFrame(dict_bi)"
      ],
      "id": "f367d80c-b7ac-42ed-b565-2cd6b84590a1",
      "execution_count": null,
      "outputs": []
    },
    {
      "cell_type": "code",
      "metadata": {
        "id": "ea7d7d08-d321-4f87-ba24-07e42ab10468"
      },
      "source": [
        "df_top_bi.columns = [' '.join(i) for i in df_top_bi.columns]"
      ],
      "id": "ea7d7d08-d321-4f87-ba24-07e42ab10468",
      "execution_count": null,
      "outputs": []
    },
    {
      "cell_type": "markdown",
      "metadata": {
        "id": "ac4e67d3-e52d-4c6b-a040-1b8a6ccafb51"
      },
      "source": [
        "Но надо бы получше поставить индекс"
      ],
      "id": "ac4e67d3-e52d-4c6b-a040-1b8a6ccafb51"
    },
    {
      "cell_type": "code",
      "metadata": {
        "id": "99ebcc98-31bc-44e5-9606-97849ac7105a"
      },
      "source": [
        "year_pub_counts = df.published.apply(lambda x: x.year).value_counts()"
      ],
      "id": "99ebcc98-31bc-44e5-9606-97849ac7105a",
      "execution_count": null,
      "outputs": []
    },
    {
      "cell_type": "code",
      "metadata": {
        "id": "91339406-83f5-4de7-89a7-b8302bf7bc15"
      },
      "source": [
        "year_sorted = sorted(year_pub_counts.index.to_list())"
      ],
      "id": "91339406-83f5-4de7-89a7-b8302bf7bc15",
      "execution_count": null,
      "outputs": []
    },
    {
      "cell_type": "code",
      "metadata": {
        "id": "34ccedec-3aac-4450-926a-28aef80919de"
      },
      "source": [
        "df_top_bi.index = year_sorted"
      ],
      "id": "34ccedec-3aac-4450-926a-28aef80919de",
      "execution_count": null,
      "outputs": []
    },
    {
      "cell_type": "code",
      "metadata": {
        "id": "a7dd9188-9a5e-4dd5-b4ba-52e00d8081cf"
      },
      "source": [
        "df_top_bi_adj = df_top_bi.multiply(1 / year_pub_counts, axis='index')"
      ],
      "id": "a7dd9188-9a5e-4dd5-b4ba-52e00d8081cf",
      "execution_count": null,
      "outputs": []
    },
    {
      "cell_type": "markdown",
      "metadata": {
        "id": "1a738eaa-df97-4c95-b378-a1e4f3756337"
      },
      "source": [
        "Пока что мусорно, но виден в конце отчётливый тренд"
      ],
      "id": "1a738eaa-df97-4c95-b378-a1e4f3756337"
    },
    {
      "cell_type": "code",
      "metadata": {
        "colab": {
          "base_uri": "https://localhost:8080/"
        },
        "id": "f67695d2-3ce3-450a-a509-8944737c8e7f",
        "outputId": "4cba3c92-119f-4c53-b6f4-f0fe3fb5bacf"
      },
      "source": [
        "df_top_bi_adj.loc[2021]"
      ],
      "id": "f67695d2-3ce3-450a-a509-8944737c8e7f",
      "execution_count": null,
      "outputs": [
        {
          "output_type": "execute_result",
          "data": {
            "text/plain": [
              "machine       learning       0.951306\n",
              "              learn          0.528504\n",
              "neural        network        0.280285\n",
              "deep          learning       0.207838\n",
              "learning      model          0.217340\n",
              "                               ...   \n",
              "snapshot      information    0.000000\n",
              "performance   DOA            0.000000\n",
              "grid          problem        0.000000\n",
              "problem       array          0.000000\n",
              "imperfection  exist          0.000000\n",
              "Name: 2021, Length: 405837, dtype: float64"
            ]
          },
          "metadata": {
            "tags": []
          },
          "execution_count": 33
        }
      ]
    },
    {
      "cell_type": "code",
      "metadata": {
        "id": "b8bd3a65-a6ff-4d7c-8518-a7537fcc139a"
      },
      "source": [
        "df_top_bi_adj.plot(figsize=(10, 8))\n",
        "plt.grid(alpha=.4)"
      ],
      "id": "b8bd3a65-a6ff-4d7c-8518-a7537fcc139a",
      "execution_count": null,
      "outputs": []
    },
    {
      "cell_type": "code",
      "metadata": {
        "id": "f29e6329-3e9d-4ebc-9fb1-ef0ef757fc12",
        "outputId": "e1f89750-6d95-43d1-abf1-922448984e23"
      },
      "source": [
        "'Monte Carlo' in df_top_bi_adj.columns "
      ],
      "id": "f29e6329-3e9d-4ebc-9fb1-ef0ef757fc12",
      "execution_count": null,
      "outputs": [
        {
          "output_type": "execute_result",
          "data": {
            "text/plain": [
              "True"
            ]
          },
          "metadata": {
            "tags": []
          },
          "execution_count": 274
        }
      ]
    },
    {
      "cell_type": "code",
      "metadata": {
        "id": "00cbc0e8-1898-4213-8aa1-8c5011768af0"
      },
      "source": [
        ""
      ],
      "id": "00cbc0e8-1898-4213-8aa1-8c5011768af0",
      "execution_count": null,
      "outputs": []
    },
    {
      "cell_type": "code",
      "metadata": {
        "id": "86972af2-642a-4b52-be30-4234c5714ada",
        "outputId": "67711274-ff57-441a-ce2d-e291a9d0d109"
      },
      "source": [
        "# plt.figure(figsize=(10, 8))\n",
        "df_top_bi_adj.loc[2010:, ['machine learning', 'federated learning', 'reinforcement learning', 'supervised learning', 'Monte Carlo', 'Support Vector', 'neural network']].plot(figsize=(10, 8))\n",
        "plt.grid(alpha=.4)"
      ],
      "id": "86972af2-642a-4b52-be30-4234c5714ada",
      "execution_count": null,
      "outputs": [
        {
          "output_type": "display_data",
          "data": {
            "image/png": "[encoded data removed]",
            "text/plain": [
              "<Figure size 720x576 with 1 Axes>"
            ]
          },
          "metadata": {
            "tags": [],
            "needs_background": "light"
          }
        }
      ]
    },
    {
      "cell_type": "code",
      "metadata": {
        "id": "af9b37f9-f92f-4b67-a6c8-17cc39716486"
      },
      "source": [
        ""
      ],
      "id": "af9b37f9-f92f-4b67-a6c8-17cc39716486",
      "execution_count": null,
      "outputs": []
    },
    {
      "cell_type": "markdown",
      "metadata": {
        "id": "b6691f61-6634-4d73-bfb2-115ab1b19609"
      },
      "source": [
        "### Как найти выдающиеся темы (фронтиры)?"
      ],
      "id": "b6691f61-6634-4d73-bfb2-115ab1b19609"
    },
    {
      "cell_type": "code",
      "metadata": {
        "id": "dd43c467-9420-429b-8ad7-ac1984ebc664",
        "outputId": "0836dab9-e4b5-4fa3-8428-367dc86989f2"
      },
      "source": [
        "%%time\n",
        "dict_bi = defaultdict(list)\n",
        "for year in range(2010, max_year):\n",
        "    cond = (df.published.apply(lambda x: x.year) == year)\n",
        "    temp_lemm = pd.Series(lemm_abs)[cond]\n",
        "    tokens = nltk.word_tokenize(' '.join([' '.join(i) for i in temp_lemm]))\n",
        "    \n",
        "    bgs = nltk.bigrams(tokens)\n",
        "    \n",
        "    fdist = nltk.FreqDist(bgs)\n",
        "    fdist = dict(sorted(fdist.items(), key=lambda item: -item[1]))\n",
        "    for i in all_keys:\n",
        "        try:\n",
        "            dict_bi[i].append(fdist[i])\n",
        "        except:\n",
        "            dict_bi[i].append(0)"
      ],
      "id": "dd43c467-9420-429b-8ad7-ac1984ebc664",
      "execution_count": null,
      "outputs": [
        {
          "output_type": "stream",
          "text": [
            "Wall time: 7.72 s\n"
          ],
          "name": "stdout"
        }
      ]
    },
    {
      "cell_type": "code",
      "metadata": {
        "id": "14c1b867-aafe-4278-a5f5-f79c0202b8ed",
        "outputId": "3dc7f4bd-9751-4217-c397-44f31137cdf4"
      },
      "source": [
        "len(edges)"
      ],
      "id": "14c1b867-aafe-4278-a5f5-f79c0202b8ed",
      "execution_count": null,
      "outputs": [
        {
          "output_type": "execute_result",
          "data": {
            "text/plain": [
              "21"
            ]
          },
          "metadata": {
            "tags": []
          },
          "execution_count": 291
        }
      ]
    },
    {
      "cell_type": "markdown",
      "metadata": {
        "id": "a78f90a2-a6d7-4fd1-b8fc-74b437c2ca99"
      },
      "source": [
        "### Добавить относительные метрики, чтобы поднять слабые сигналы?"
      ],
      "id": "a78f90a2-a6d7-4fd1-b8fc-74b437c2ca99"
    },
    {
      "cell_type": "code",
      "metadata": {
        "id": "61318fc1-c0ba-4334-b219-4b914e365935"
      },
      "source": [
        "def get_front(name, dict_edges):\n",
        "    total = 0\n",
        "    for i in range(len(edges) - 1):\n",
        "        coef = i / (len(edges) - 1)\n",
        "        total += coef * dict_edges[name][i]\n",
        "    return total\n",
        "\n",
        "\n",
        "def get_front_rise(name, dict_edges):\n",
        "    total_rise = 0\n",
        "    for i in range(len(edges) - 1):\n",
        "        if dict_edges[name][i + 1] > dict_edges[name][i]:\n",
        "            total_rise += 1\n",
        "        else:\n",
        "            total_rise -= .5\n",
        "#         coef = i / (len(edges) - 1)\n",
        "#         total += coef * dict_edges[name][i]\n",
        "    return total_rise\n"
      ],
      "id": "61318fc1-c0ba-4334-b219-4b914e365935",
      "execution_count": null,
      "outputs": []
    },
    {
      "cell_type": "code",
      "metadata": {
        "id": "21aa84ba-74b9-4675-9e15-10f2012f2e5d",
        "outputId": "635d1281-c2b5-4d22-f74e-adbc8b1f5efe"
      },
      "source": [
        "dict_front = {}\n",
        "for i in all_keys:\n",
        "    dict_front[i] = get_front_rise(i, dict_bi)"
      ],
      "id": "21aa84ba-74b9-4675-9e15-10f2012f2e5d",
      "execution_count": null,
      "outputs": [
        {
          "output_type": "error",
          "ename": "IndexError",
          "evalue": "list index out of range",
          "traceback": [
            "\u001b[1;31m---------------------------------------------------------------------------\u001b[0m",
            "\u001b[1;31mIndexError\u001b[0m                                Traceback (most recent call last)",
            "\u001b[1;32m<ipython-input-293-333ba180f1b3>\u001b[0m in \u001b[0;36m<module>\u001b[1;34m\u001b[0m\n\u001b[0;32m      1\u001b[0m \u001b[0mdict_front\u001b[0m \u001b[1;33m=\u001b[0m \u001b[1;33m{\u001b[0m\u001b[1;33m}\u001b[0m\u001b[1;33m\u001b[0m\u001b[1;33m\u001b[0m\u001b[0m\n\u001b[0;32m      2\u001b[0m \u001b[1;32mfor\u001b[0m \u001b[0mi\u001b[0m \u001b[1;32min\u001b[0m \u001b[0mall_keys\u001b[0m\u001b[1;33m:\u001b[0m\u001b[1;33m\u001b[0m\u001b[1;33m\u001b[0m\u001b[0m\n\u001b[1;32m----> 3\u001b[1;33m     \u001b[0mdict_front\u001b[0m\u001b[1;33m[\u001b[0m\u001b[0mi\u001b[0m\u001b[1;33m]\u001b[0m \u001b[1;33m=\u001b[0m \u001b[0mget_front_rise\u001b[0m\u001b[1;33m(\u001b[0m\u001b[0mi\u001b[0m\u001b[1;33m,\u001b[0m \u001b[0mdict_bi\u001b[0m\u001b[1;33m)\u001b[0m\u001b[1;33m\u001b[0m\u001b[1;33m\u001b[0m\u001b[0m\n\u001b[0m",
            "\u001b[1;32m<ipython-input-292-f209d589dfd3>\u001b[0m in \u001b[0;36mget_front_rise\u001b[1;34m(name, dict_edges)\u001b[0m\n\u001b[0;32m     10\u001b[0m     \u001b[0mtotal_rise\u001b[0m \u001b[1;33m=\u001b[0m \u001b[1;36m0\u001b[0m\u001b[1;33m\u001b[0m\u001b[1;33m\u001b[0m\u001b[0m\n\u001b[0;32m     11\u001b[0m     \u001b[1;32mfor\u001b[0m \u001b[0mi\u001b[0m \u001b[1;32min\u001b[0m \u001b[0mrange\u001b[0m\u001b[1;33m(\u001b[0m\u001b[0mlen\u001b[0m\u001b[1;33m(\u001b[0m\u001b[0medges\u001b[0m\u001b[1;33m)\u001b[0m \u001b[1;33m-\u001b[0m \u001b[1;36m1\u001b[0m\u001b[1;33m)\u001b[0m\u001b[1;33m:\u001b[0m\u001b[1;33m\u001b[0m\u001b[1;33m\u001b[0m\u001b[0m\n\u001b[1;32m---> 12\u001b[1;33m         \u001b[1;32mif\u001b[0m \u001b[0mdict_edges\u001b[0m\u001b[1;33m[\u001b[0m\u001b[0mname\u001b[0m\u001b[1;33m]\u001b[0m\u001b[1;33m[\u001b[0m\u001b[0mi\u001b[0m \u001b[1;33m+\u001b[0m \u001b[1;36m1\u001b[0m\u001b[1;33m]\u001b[0m \u001b[1;33m>\u001b[0m \u001b[0mdict_edges\u001b[0m\u001b[1;33m[\u001b[0m\u001b[0mname\u001b[0m\u001b[1;33m]\u001b[0m\u001b[1;33m[\u001b[0m\u001b[0mi\u001b[0m\u001b[1;33m]\u001b[0m\u001b[1;33m:\u001b[0m\u001b[1;33m\u001b[0m\u001b[1;33m\u001b[0m\u001b[0m\n\u001b[0m\u001b[0;32m     13\u001b[0m             \u001b[0mtotal_rise\u001b[0m \u001b[1;33m+=\u001b[0m \u001b[1;36m1\u001b[0m\u001b[1;33m\u001b[0m\u001b[1;33m\u001b[0m\u001b[0m\n\u001b[0;32m     14\u001b[0m         \u001b[1;32melse\u001b[0m\u001b[1;33m:\u001b[0m\u001b[1;33m\u001b[0m\u001b[1;33m\u001b[0m\u001b[0m\n",
            "\u001b[1;31mIndexError\u001b[0m: list index out of range"
          ]
        }
      ]
    },
    {
      "cell_type": "code",
      "metadata": {
        "id": "8e79b383-d293-4d10-ae30-4845aa6548f1"
      },
      "source": [
        "# print(pd.Series(dict_front).sort_values(ascending=True)[-150:].to_string())"
      ],
      "id": "8e79b383-d293-4d10-ae30-4845aa6548f1",
      "execution_count": null,
      "outputs": []
    },
    {
      "cell_type": "code",
      "metadata": {
        "id": "802841ad-866a-4381-9be8-882990034cd7"
      },
      "source": [
        "topics = [' '.join(i) for i in list(pd.Series(dict_front).sort_values(ascending=False).index)[:10]]\n",
        "# plt.figure(figsize=(10, 8))\n",
        "df_top_bi_adj.loc[2010:, topics].plot(figsize=(10, 8))\n",
        "plt.grid(alpha=.4)"
      ],
      "id": "802841ad-866a-4381-9be8-882990034cd7",
      "execution_count": null,
      "outputs": []
    },
    {
      "cell_type": "code",
      "metadata": {
        "id": "2441ab70-4a2b-4ef4-9192-87ab71225e26",
        "outputId": "b23865ac-e1f5-4866-c50f-34e2376e98ac"
      },
      "source": [
        "df.created.hist()"
      ],
      "id": "2441ab70-4a2b-4ef4-9192-87ab71225e26",
      "execution_count": null,
      "outputs": [
        {
          "output_type": "execute_result",
          "data": {
            "text/plain": [
              "<AxesSubplot:>"
            ]
          },
          "metadata": {
            "tags": []
          },
          "execution_count": 133
        },
        {
          "output_type": "display_data",
          "data": {
            "image/png": "[encoded data removed]",
            "text/plain": [
              "<Figure size 432x288 with 1 Axes>"
            ]
          },
          "metadata": {
            "tags": [],
            "needs_background": "light"
          }
        }
      ]
    },
    {
      "cell_type": "code",
      "metadata": {
        "id": "2fc878a2-3fa1-4537-bb0e-ec311de93b0e"
      },
      "source": [
        ""
      ],
      "id": "2fc878a2-3fa1-4537-bb0e-ec311de93b0e",
      "execution_count": null,
      "outputs": []
    },
    {
      "cell_type": "code",
      "metadata": {
        "id": "581d3d7f-8b3f-4e4b-a8ea-889f0e93e3b9"
      },
      "source": [
        ""
      ],
      "id": "581d3d7f-8b3f-4e4b-a8ea-889f0e93e3b9",
      "execution_count": null,
      "outputs": []
    },
    {
      "cell_type": "code",
      "metadata": {
        "id": "3413b8e4-a740-48b2-9a7f-f3ae0b8e1244"
      },
      "source": [
        "with open('lotr.txt', encoding='utf-8') as f:\n",
        "    book = f.read().splitlines()"
      ],
      "id": "3413b8e4-a740-48b2-9a7f-f3ae0b8e1244",
      "execution_count": null,
      "outputs": []
    },
    {
      "cell_type": "code",
      "metadata": {
        "id": "baa3a971-ba36-4888-8c69-71c4f704da2f"
      },
      "source": [
        "nlp = spacy.load(\"en_core_web_sm\")"
      ],
      "id": "baa3a971-ba36-4888-8c69-71c4f704da2f",
      "execution_count": null,
      "outputs": []
    },
    {
      "cell_type": "code",
      "metadata": {
        "id": "0f79110b-36ee-47de-88bf-8a9c0dfd1beb",
        "outputId": "c1cb4867-6e28-45ed-ea5d-1f3f3c5b7012"
      },
      "source": [
        "%%time\n",
        "lemm_book = []\n",
        "words_delete = ['say', 'come', 'look', 'the']\n",
        "for part in book:\n",
        "    doc = nlp(part)\n",
        "    part_list = []\n",
        "    for token in doc:\n",
        "        if not token.is_stop and not token.is_punct and not token.like_num and not token.lemma_ in words_delete:\n",
        "            part_list.append(token.lemma_)\n",
        "    lemm_book.append(part_list)"
      ],
      "id": "0f79110b-36ee-47de-88bf-8a9c0dfd1beb",
      "execution_count": null,
      "outputs": [
        {
          "output_type": "stream",
          "text": [
            "Wall time: 1min 38s\n"
          ],
          "name": "stdout"
        }
      ]
    },
    {
      "cell_type": "code",
      "metadata": {
        "id": "d1e15af0-eb1b-4a3a-8f1d-65e7c5e60554"
      },
      "source": [
        "# with open('lemm_lotr.txt', 'w', encoding='utf-8') as f:\n",
        "#     for i in lemm_book:\n",
        "#         f.write(' '.join(i) + '\\n')"
      ],
      "id": "d1e15af0-eb1b-4a3a-8f1d-65e7c5e60554",
      "execution_count": null,
      "outputs": []
    },
    {
      "cell_type": "code",
      "metadata": {
        "id": "9a371788-2bbd-47b5-9fb0-9bc515f8f6c0"
      },
      "source": [
        "tokens = nltk.word_tokenize(' '.join([' '.join(i) for i in lemm_book]))\n",
        "\n",
        "#Create your bigrams\n",
        "bgs = nltk.bigrams(tokens)\n",
        "\n",
        "#compute frequency distribution for all the bigrams in the text\n",
        "fdist = nltk.FreqDist(bgs)\n",
        "fdist = dict(sorted(fdist.items(), key=lambda item: -item[1]))\n",
        "# for k,v in fdist.items():\n",
        "#     if v < 10:\n",
        "#         break\n",
        "#     print (k,v)"
      ],
      "id": "9a371788-2bbd-47b5-9fb0-9bc515f8f6c0",
      "execution_count": null,
      "outputs": []
    },
    {
      "cell_type": "code",
      "metadata": {
        "id": "d72ebe96-5675-4746-a599-be984c8b582e"
      },
      "source": [
        "# for k,v in fdist.items():\n",
        "#     if v < 10:\n",
        "#         break\n",
        "#     print (k,v)"
      ],
      "id": "d72ebe96-5675-4746-a599-be984c8b582e",
      "execution_count": null,
      "outputs": []
    },
    {
      "cell_type": "code",
      "metadata": {
        "id": "eb99f7fb-6e3b-4454-a043-b9fe27f4c6dd",
        "outputId": "70fa9a83-3430-4aaa-992c-fa2e16e93437"
      },
      "source": [
        "for i in fdist.keys():\n",
        "    print(type(i))\n",
        "    break"
      ],
      "id": "eb99f7fb-6e3b-4454-a043-b9fe27f4c6dd",
      "execution_count": null,
      "outputs": [
        {
          "output_type": "stream",
          "text": [
            "<class 'tuple'>\n"
          ],
          "name": "stdout"
        }
      ]
    },
    {
      "cell_type": "code",
      "metadata": {
        "id": "b6a693e3-2ef9-413a-8fed-4c7cdc7142b7",
        "outputId": "05bccb2b-bd0a-48ce-bdd6-b500a2141af4"
      },
      "source": [
        "len(lemm_book)"
      ],
      "id": "b6a693e3-2ef9-413a-8fed-4c7cdc7142b7",
      "execution_count": null,
      "outputs": [
        {
          "output_type": "execute_result",
          "data": {
            "text/plain": [
              "10925"
            ]
          },
          "metadata": {
            "tags": []
          },
          "execution_count": 49
        }
      ]
    },
    {
      "cell_type": "code",
      "metadata": {
        "id": "8ff7a9f9-9bce-49eb-8262-562b8f0e933c"
      },
      "source": [
        ""
      ],
      "id": "8ff7a9f9-9bce-49eb-8262-562b8f0e933c",
      "execution_count": null,
      "outputs": []
    },
    {
      "cell_type": "code",
      "metadata": {
        "id": "83731fb3-c07a-4aa9-87cd-2b7cbb4109f3",
        "outputId": "0ce28ddb-cb1f-480f-9928-7d6882a71c78"
      },
      "source": [
        "fdist[('Dark', 'Lord')]"
      ],
      "id": "83731fb3-c07a-4aa9-87cd-2b7cbb4109f3",
      "execution_count": null,
      "outputs": [
        {
          "output_type": "execute_result",
          "data": {
            "text/plain": [
              "50"
            ]
          },
          "metadata": {
            "tags": []
          },
          "execution_count": 48
        }
      ]
    },
    {
      "cell_type": "code",
      "metadata": {
        "id": "42550718-3cf6-490a-9893-b3992ee358e0"
      },
      "source": [
        "dict_lord = {}\n",
        "for i in range(0, len(lemm_book), 1000):\n",
        "    tokens = nltk.word_tokenize(' '.join([' '.join(i) for i in lemm_book[i : i + 500]]))\n",
        "    bgs = nltk.bigrams(tokens)\n",
        "    fdist = nltk.FreqDist(bgs)\n",
        "    fdist = dict(sorted(fdist.items(), key=lambda item: -item[1]))\n",
        "    \n",
        "    dict_lord[i] = fdist.get(('Middle', 'earth'))"
      ],
      "id": "42550718-3cf6-490a-9893-b3992ee358e0",
      "execution_count": null,
      "outputs": []
    },
    {
      "cell_type": "code",
      "metadata": {
        "id": "23e7a9f2-6502-4ab0-92d4-4c80905780f1"
      },
      "source": [
        "y = pd.Series(dict_lord.values())\n",
        "y.fillna(0, inplace=True)\n",
        "y = list(y)\n",
        "x = list(dict_lord.keys())"
      ],
      "id": "23e7a9f2-6502-4ab0-92d4-4c80905780f1",
      "execution_count": null,
      "outputs": []
    },
    {
      "cell_type": "code",
      "metadata": {
        "id": "3ed76212-493f-4ef4-8782-714c9d09c3e1",
        "outputId": "3ea0a5dd-28fd-4dcb-e2cb-a9fdd9c43a68"
      },
      "source": [
        "plt.figure(figsize=(10, 8))\n",
        "plt.bar(x, y, width=600)\n",
        "plt.xlabel('Номер абзаца')\n",
        "plt.ylabel('Кол-во биграммов \"Middle earth\"')\n",
        "plt.grid(alpha=.4)\n",
        "None"
      ],
      "id": "3ed76212-493f-4ef4-8782-714c9d09c3e1",
      "execution_count": null,
      "outputs": [
        {
          "output_type": "display_data",
          "data": {
            "image/png": "[encoded data removed]",
            "text/plain": [
              "<Figure size 720x576 with 1 Axes>"
            ]
          },
          "metadata": {
            "tags": [],
            "needs_background": "light"
          }
        }
      ]
    },
    {
      "cell_type": "code",
      "metadata": {
        "id": "8d41d763-9ef9-4b85-89e7-40e49cbe56d4"
      },
      "source": [
        ""
      ],
      "id": "8d41d763-9ef9-4b85-89e7-40e49cbe56d4",
      "execution_count": null,
      "outputs": []
    },
    {
      "cell_type": "code",
      "metadata": {
        "id": "17355add-4b96-485b-8055-e694490372ea"
      },
      "source": [
        ""
      ],
      "id": "17355add-4b96-485b-8055-e694490372ea",
      "execution_count": null,
      "outputs": []
    }
  ]
}