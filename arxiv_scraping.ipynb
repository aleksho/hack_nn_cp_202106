{
  "nbformat": 4,
  "nbformat_minor": 0,
  "metadata": {
    "colab": {
      "name": "arxiv_scraping.ipynb",
      "provenance": [],
      "include_colab_link": true
    },
    "kernelspec": {
      "name": "python3",
      "display_name": "Python 3"
    },
    "language_info": {
      "name": "python"
    }
  },
  "cells": [
    {
      "cell_type": "markdown",
      "metadata": {
        "id": "view-in-github",
        "colab_type": "text"
      },
      "source": [
        "<a href=\"https://colab.research.google.com/github/aleksho/hack_nn_cp_202106/blob/main/arxiv_scraping.ipynb\" target=\"_parent\"><img src=\"https://colab.research.google.com/assets/colab-badge.svg\" alt=\"Open In Colab\"/></a>"
      ]
    },
    {
      "cell_type": "code",
      "metadata": {
        "colab": {
          "base_uri": "https://localhost:8080/"
        },
        "id": "c2d5wKRGVEJ2",
        "outputId": "1f4ec131-b4fd-4ff3-bf67-3c52aa1b7319"
      },
      "source": [
        "!pip install arxivabscraper\n",
        "!pip install arxivscraper\n",
        "!pip install arxiv"
      ],
      "execution_count": null,
      "outputs": [
        {
          "output_type": "stream",
          "text": [
            "Requirement already satisfied: arxivabscraper in /usr/local/lib/python3.7/dist-packages (0.3)\n",
            "Requirement already satisfied: arxivscraper in /usr/local/lib/python3.7/dist-packages (0.0.4)\n",
            "Collecting arxiv\n",
            "  Downloading https://files.pythonhosted.org/packages/63/cb/01bb646298dd4646277d0b366b6f50001cb2971b0fc2d3879cc5fce01097/arxiv-1.2.0-py3-none-any.whl\n",
            "Collecting feedparser\n",
            "\u001b[?25l  Downloading https://files.pythonhosted.org/packages/0e/b8/babbdef2a52fea529f43ca4c08f9917ecca1b7ffb27c340baecb746f39cb/feedparser-6.0.6-py3-none-any.whl (80kB)\n",
            "\u001b[K     |████████████████████████████████| 81kB 3.5MB/s \n",
            "\u001b[?25hCollecting sgmllib3k\n",
            "  Downloading https://files.pythonhosted.org/packages/9e/bd/3704a8c3e0942d711c1299ebf7b9091930adae6675d7c8f476a7ce48653c/sgmllib3k-1.0.0.tar.gz\n",
            "Building wheels for collected packages: sgmllib3k\n",
            "  Building wheel for sgmllib3k (setup.py) ... \u001b[?25l\u001b[?25hdone\n",
            "  Created wheel for sgmllib3k: filename=sgmllib3k-1.0.0-cp37-none-any.whl size=6067 sha256=8f2cee4ddffaab88a3534e7d06770059a0d9238e96f870e98ece7645d03e35b3\n",
            "  Stored in directory: /root/.cache/pip/wheels/f1/80/5a/444ba08a550cdd241bd9baf8bae44be750efe370adb944506a\n",
            "Successfully built sgmllib3k\n",
            "Installing collected packages: sgmllib3k, feedparser, arxiv\n",
            "Successfully installed arxiv-1.2.0 feedparser-6.0.6 sgmllib3k-1.0.0\n"
          ],
          "name": "stdout"
        }
      ]
    },
    {
      "cell_type": "code",
      "metadata": {
        "id": "EkpyqoxNVDKk"
      },
      "source": [
        "import arxivscraper\n",
        "import arxivabscraper\n",
        "import pandas as pd\n",
        "import arxiv"
      ],
      "execution_count": null,
      "outputs": []
    },
    {
      "cell_type": "code",
      "metadata": {
        "id": "R3Ernl7uVLW-"
      },
      "source": [
        "scraper = arxivscraper.Scraper(category='physics:cond-mat', date_from='2017-05-27',date_until='2017-06-07')"
      ],
      "execution_count": null,
      "outputs": []
    },
    {
      "cell_type": "code",
      "metadata": {
        "colab": {
          "base_uri": "https://localhost:8080/"
        },
        "id": "ETHTTipYVQbF",
        "outputId": "281e1655-b1f9-4bfb-bf60-e4c7bcca28d4"
      },
      "source": [
        "output = scraper.scrape()\n",
        "cols = ('id', 'title', 'categories', 'abstract', 'doi', 'created', 'updated', 'authors')\n",
        "df = pd.DataFrame(output, columns=cols)"
      ],
      "execution_count": null,
      "outputs": [
        {
          "output_type": "stream",
          "text": [
            "fetching up to  1000 records...\n",
            "fetching is completed in 6.2 seconds.\n",
            "Total number of records 547\n"
          ],
          "name": "stdout"
        }
      ]
    },
    {
      "cell_type": "code",
      "metadata": {
        "id": "tqt1bjKfVUFR"
      },
      "source": [
        "df['created'] = pd.to_datetime(df['created'])"
      ],
      "execution_count": null,
      "outputs": []
    },
    {
      "cell_type": "code",
      "metadata": {
        "colab": {
          "base_uri": "https://localhost:8080/",
          "height": 973
        },
        "id": "Dkduly5jWYDl",
        "outputId": "610060dd-758c-443a-a724-1dd639bb50a7"
      },
      "source": [
        "df"
      ],
      "execution_count": null,
      "outputs": [
        {
          "output_type": "execute_result",
          "data": {
            "text/html": [
              "<div>\n",
              "<style scoped>\n",
              "    .dataframe tbody tr th:only-of-type {\n",
              "        vertical-align: middle;\n",
              "    }\n",
              "\n",
              "    .dataframe tbody tr th {\n",
              "        vertical-align: top;\n",
              "    }\n",
              "\n",
              "    .dataframe thead th {\n",
              "        text-align: right;\n",
              "    }\n",
              "</style>\n",
              "<table border=\"1\" class=\"dataframe\">\n",
              "  <thead>\n",
              "    <tr style=\"text-align: right;\">\n",
              "      <th></th>\n",
              "      <th>id</th>\n",
              "      <th>title</th>\n",
              "      <th>categories</th>\n",
              "      <th>abstract</th>\n",
              "      <th>doi</th>\n",
              "      <th>created</th>\n",
              "      <th>updated</th>\n",
              "      <th>authors</th>\n",
              "    </tr>\n",
              "  </thead>\n",
              "  <tbody>\n",
              "    <tr>\n",
              "      <th>0</th>\n",
              "      <td>1008.1559</td>\n",
              "      <td>generalized extensivity</td>\n",
              "      <td>cond-mat.stat-mech</td>\n",
              "      <td>in order to apply thermodynamics to systems in...</td>\n",
              "      <td></td>\n",
              "      <td>2010-08-09</td>\n",
              "      <td>2016-02-19</td>\n",
              "      <td>[john e. gray, stephen r. addison]</td>\n",
              "    </tr>\n",
              "    <tr>\n",
              "      <th>1</th>\n",
              "      <td>1210.1784</td>\n",
              "      <td>general relations for quantum gases in two and...</td>\n",
              "      <td>cond-mat.quant-gas</td>\n",
              "      <td>we derive exact general relations between vari...</td>\n",
              "      <td>10.1103/physreva.86.053633</td>\n",
              "      <td>2012-10-05</td>\n",
              "      <td>2017-05-30</td>\n",
              "      <td>[félix werner, yvan castin]</td>\n",
              "    </tr>\n",
              "    <tr>\n",
              "      <th>2</th>\n",
              "      <td>1310.1579</td>\n",
              "      <td>distribution of lifetimes of kinetochore-micro...</td>\n",
              "      <td>physics.bio-ph cond-mat.stat-mech q-bio.sc</td>\n",
              "      <td>before a cell divides into two daughter cells,...</td>\n",
              "      <td>10.1088/1478-3975/11/3/036004</td>\n",
              "      <td>2013-10-06</td>\n",
              "      <td>2014-03-24</td>\n",
              "      <td>[ajeet k. sharma, blerta shtylla, debashish ch...</td>\n",
              "    </tr>\n",
              "    <tr>\n",
              "      <th>3</th>\n",
              "      <td>1311.4422</td>\n",
              "      <td>incorporation of a dc bias in a high-q 3d micr...</td>\n",
              "      <td>cond-mat.mes-hall</td>\n",
              "      <td>we report a technique for applying a dc bias i...</td>\n",
              "      <td></td>\n",
              "      <td>2013-11-18</td>\n",
              "      <td>2017-05-29</td>\n",
              "      <td>[mingyun yuan, sal j. bosman, g. a. steele]</td>\n",
              "    </tr>\n",
              "    <tr>\n",
              "      <th>4</th>\n",
              "      <td>1405.1697</td>\n",
              "      <td>a s=1/2 vanadium-based geometrically frustrate...</td>\n",
              "      <td>cond-mat.str-el</td>\n",
              "      <td>we report the synthesis and characterization o...</td>\n",
              "      <td>10.1088/0953-8984/26/26/265601</td>\n",
              "      <td>2014-05-07</td>\n",
              "      <td>2014-05-13</td>\n",
              "      <td>[tanmoy chakrabarty, a. v. mahajan, b. koteswa...</td>\n",
              "    </tr>\n",
              "    <tr>\n",
              "      <th>...</th>\n",
              "      <td>...</td>\n",
              "      <td>...</td>\n",
              "      <td>...</td>\n",
              "      <td>...</td>\n",
              "      <td>...</td>\n",
              "      <td>...</td>\n",
              "      <td>...</td>\n",
              "      <td>...</td>\n",
              "    </tr>\n",
              "    <tr>\n",
              "      <th>542</th>\n",
              "      <td>1706.01796</td>\n",
              "      <td>magnetic behavior and spin-lattice coupling in...</td>\n",
              "      <td>cond-mat.other cond-mat.mtrl-sci</td>\n",
              "      <td>crcl3 is a layered insulator that undergoes a ...</td>\n",
              "      <td></td>\n",
              "      <td>2017-06-06</td>\n",
              "      <td></td>\n",
              "      <td>[michael a. mcguire, genevieve clark, santosh ...</td>\n",
              "    </tr>\n",
              "    <tr>\n",
              "      <th>543</th>\n",
              "      <td>1706.01840</td>\n",
              "      <td>designing magnetism in fe-based heusler alloys...</td>\n",
              "      <td>cond-mat.mtrl-sci</td>\n",
              "      <td>combining material informatics and high-throug...</td>\n",
              "      <td></td>\n",
              "      <td>2017-06-06</td>\n",
              "      <td></td>\n",
              "      <td>[mario žic, thomas archer, stefano sanvito]</td>\n",
              "    </tr>\n",
              "    <tr>\n",
              "      <th>544</th>\n",
              "      <td>1706.01848</td>\n",
              "      <td>structural properties of thin-film ferromagnet...</td>\n",
              "      <td>cond-mat.mtrl-sci cond-mat.mes-hall</td>\n",
              "      <td>we present a comprehensive study of the crysta...</td>\n",
              "      <td></td>\n",
              "      <td>2017-06-06</td>\n",
              "      <td></td>\n",
              "      <td>[c. l. richardson, j. m. devine-stoneman, g. d...</td>\n",
              "    </tr>\n",
              "    <tr>\n",
              "      <th>545</th>\n",
              "      <td>cond-mat/0110290</td>\n",
              "      <td>an alternative definition of the equivalent no...</td>\n",
              "      <td>cond-mat.mtrl-sci cond-mat.stat-mech</td>\n",
              "      <td>a hypothetical test resistor is connected in p...</td>\n",
              "      <td></td>\n",
              "      <td>2001-10-15</td>\n",
              "      <td>2017-05-29</td>\n",
              "      <td>[dan ritter]</td>\n",
              "    </tr>\n",
              "    <tr>\n",
              "      <th>546</th>\n",
              "      <td>cond-mat/9809122</td>\n",
              "      <td>hysteresis, avalanches, and noise: numerical m...</td>\n",
              "      <td>cond-mat.dis-nn cond-mat.mtrl-sci cond-mat.sta...</td>\n",
              "      <td>in studying the avalanches and noise in a mode...</td>\n",
              "      <td>10.1109/5992.774844</td>\n",
              "      <td>1998-09-07</td>\n",
              "      <td>1999-04-23</td>\n",
              "      <td>[matthew c. kuntz, olga perkovic, karin a. dah...</td>\n",
              "    </tr>\n",
              "  </tbody>\n",
              "</table>\n",
              "<p>547 rows × 8 columns</p>\n",
              "</div>"
            ],
            "text/plain": [
              "                   id  ...                                            authors\n",
              "0           1008.1559  ...                 [john e. gray, stephen r. addison]\n",
              "1           1210.1784  ...                        [félix werner, yvan castin]\n",
              "2           1310.1579  ...  [ajeet k. sharma, blerta shtylla, debashish ch...\n",
              "3           1311.4422  ...        [mingyun yuan, sal j. bosman, g. a. steele]\n",
              "4           1405.1697  ...  [tanmoy chakrabarty, a. v. mahajan, b. koteswa...\n",
              "..                ...  ...                                                ...\n",
              "542        1706.01796  ...  [michael a. mcguire, genevieve clark, santosh ...\n",
              "543        1706.01840  ...        [mario žic, thomas archer, stefano sanvito]\n",
              "544        1706.01848  ...  [c. l. richardson, j. m. devine-stoneman, g. d...\n",
              "545  cond-mat/0110290  ...                                       [dan ritter]\n",
              "546  cond-mat/9809122  ...  [matthew c. kuntz, olga perkovic, karin a. dah...\n",
              "\n",
              "[547 rows x 8 columns]"
            ]
          },
          "metadata": {
            "tags": []
          },
          "execution_count": 38
        }
      ]
    },
    {
      "cell_type": "markdown",
      "metadata": {
        "id": "A2fTxoXwV2MK"
      },
      "source": [
        "параметры date_from и date_until явно испытывают проблемы"
      ]
    },
    {
      "cell_type": "code",
      "metadata": {
        "colab": {
          "base_uri": "https://localhost:8080/",
          "height": 282
        },
        "id": "pyZN9Xf0Vc7l",
        "outputId": "b29bd6a0-d32f-4af5-8523-7e12a249d093"
      },
      "source": [
        "df.created.hist()"
      ],
      "execution_count": null,
      "outputs": [
        {
          "output_type": "execute_result",
          "data": {
            "text/plain": [
              "<matplotlib.axes._subplots.AxesSubplot at 0x7fab78775790>"
            ]
          },
          "metadata": {
            "tags": []
          },
          "execution_count": 64
        },
        {
          "output_type": "display_data",
          "data": {
            "image/png": "[encoded data removed]",
            "text/plain": [
              "<Figure size 432x288 with 1 Axes>"
            ]
          },
          "metadata": {
            "tags": [],
            "needs_background": "light"
          }
        }
      ]
    },
    {
      "cell_type": "code",
      "metadata": {
        "id": "1EdBBNPSWV1B"
      },
      "source": [
        "from collections import defaultdict"
      ],
      "execution_count": null,
      "outputs": []
    },
    {
      "cell_type": "code",
      "metadata": {
        "id": "Eu9uVKlKXauY"
      },
      "source": [
        "search = arxiv.Search('machine learning', max_results=10000)"
      ],
      "execution_count": null,
      "outputs": []
    },
    {
      "cell_type": "code",
      "metadata": {
        "id": "Ey-5HH6_cxU2"
      },
      "source": [
        "from tqdm import tqdm"
      ],
      "execution_count": null,
      "outputs": []
    },
    {
      "cell_type": "code",
      "metadata": {
        "colab": {
          "base_uri": "https://localhost:8080/"
        },
        "id": "ERrkkUHAXhmg",
        "outputId": "7a72d614-58bb-45e3-fc93-2edc7683e6bf"
      },
      "source": [
        "%%time\n",
        "dict_arxiv = defaultdict(list)\n",
        "for result in tqdm(search.get()):\n",
        "  # result.download_pdf()\n",
        "  dict_arxiv['abstract'].append(result.summary)\n",
        "  dict_arxiv['published'].append(result.published)\n",
        "  dict_arxiv['title'].append(result.title)"
      ],
      "execution_count": null,
      "outputs": [
        {
          "output_type": "stream",
          "text": [
            "10000it [07:01, 23.72it/s]"
          ],
          "name": "stderr"
        },
        {
          "output_type": "stream",
          "text": [
            "CPU times: user 22.6 s, sys: 439 ms, total: 23.1 s\n",
            "Wall time: 7min 1s\n"
          ],
          "name": "stdout"
        },
        {
          "output_type": "stream",
          "text": [
            "\n"
          ],
          "name": "stderr"
        }
      ]
    },
    {
      "cell_type": "code",
      "metadata": {
        "id": "WS5vb0xEaMsB"
      },
      "source": [
        "df_arx = pd.DataFrame(dict_arxiv)\n",
        "df_arx['published'] = pd.to_datetime(df_arx.published)"
      ],
      "execution_count": null,
      "outputs": []
    },
    {
      "cell_type": "code",
      "metadata": {
        "colab": {
          "base_uri": "https://localhost:8080/",
          "height": 282
        },
        "id": "emldc6CbaL5G",
        "outputId": "bc21d40e-d57b-4a35-cd83-b524047885e6"
      },
      "source": [
        "df_arx.published.hist()"
      ],
      "execution_count": null,
      "outputs": [
        {
          "output_type": "execute_result",
          "data": {
            "text/plain": [
              "<matplotlib.axes._subplots.AxesSubplot at 0x7fab781e6cd0>"
            ]
          },
          "metadata": {
            "tags": []
          },
          "execution_count": 76
        },
        {
          "output_type": "display_data",
          "data": {
            "image/png": "[encoded data removed]",
            "text/plain": [
              "<Figure size 432x288 with 1 Axes>"
            ]
          },
          "metadata": {
            "tags": [],
            "needs_background": "light"
          }
        }
      ]
    },
    {
      "cell_type": "code",
      "metadata": {
        "id": "OYO7eck7X0e3"
      },
      "source": [
        "df_arx.to_csv('arx_10000_machine_learning.csv', index=None)"
      ],
      "execution_count": null,
      "outputs": []
    },
    {
      "cell_type": "code",
      "metadata": {
        "id": "o6hc23GMjZMq"
      },
      "source": [
        ""
      ],
      "execution_count": null,
      "outputs": []
    }
  ]
}